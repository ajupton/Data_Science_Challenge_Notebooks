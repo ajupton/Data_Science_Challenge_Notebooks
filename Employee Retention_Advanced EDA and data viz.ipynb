{
 "cells": [
  {
   "cell_type": "markdown",
   "metadata": {},
   "source": [
    "## Data Challenge 4 - Employee Retention\n"
   ]
  },
  {
   "cell_type": "markdown",
   "metadata": {},
   "source": [
    "### Goal\n",
    "Employee turnover is a very costly problem for companies. The cost of replacing an employee if often larger than 100K USD, taking into account the time spent to interview and find a replacement, placement fees, sign-on bonuses and the loss of productivity for several months.\n",
    "\n",
    "It is only natural then that data science has started being applied to this area. Understanding why and when employees are most likely to leave can lead to actions to improve employee retention as well as planning new hiring in advance. This application of DS is sometimes called people analytics or people data science (if you see a job title: people data scientist, this is your job).\n",
    "\n",
    "In this challenge, you have a data set with info about the employees and have to predict when employees are going to quit by understanding the main drivers of employee churn.\n",
    "\n",
    "#### Questions/Hints:\n",
    "What are the main factors that drive employee churn? Do they make sense? Explain your findings.\n",
    "\n",
    "What might you be able to do for the company to address employee Churn, what would be follow-up actions?\n",
    "\n",
    "If you could add to this data set just one variable that could help explain employee churn, what would that be?\n",
    "\n",
    "Your output should be in the form a a jupyter notebook and pdf output of a jupyter notebook in which you specify your results and how you got them."
   ]
  },
  {
   "cell_type": "markdown",
   "metadata": {},
   "source": [
    "## Findings\n",
    "\n",
    "* The main factor driving employee churn in this dataset appears to be the position. In particular, Customer Service employees have a noticably higher churn rate than employees in other positions. This makes sense, CS is a rough job that typically doesn't pay well - folks in this position are likely to seek out better paying jobs that tend to be more career-oriented. \n",
    "\n",
    "* It seems as though higher salaries might work at keeping Data Scientists and Engineers retained, but perhaps isn't working as a strategy to keep Customer Service, Design, and Marketing employees around as those with higher salaries tend to _not_ be retained. These trends are much more salient for Engineers/Data Scientists, however.\n",
    "\n",
    "* Company 11 has a big churn problem - with a 75% turnover rate, but they are quite a small company and I don't have any addition information to explain the high churn there. Perhaps they have cultural issues that need to be addressed. \n",
    "\n",
    "* There seems to be a distance-decay pattern in the dataset, where most employees tend to stick around for at least one year (i.e. 2015 join employees are staying), while becomes more rare that employees stay for more than 3 years. This is certainly expected. As  a result, intervention efforts could be made to keep employees around at regular intervals but in particular just prior to the one-year, two-year and three-year milestones. \n",
    "\n",
    "* Interestingly enough, employees with 4 years of prior experience tend to be retained at a higher rate than they churn, but every other amount of prior experience correlates with a higher churn rate than retention rate. Perhaps this is a 'sweet spot' for the employee knowing what they want in a new company and having enough experience to get hired on at a salary/position that is satisfactory to their career progression going forward. \n",
    "\n",
    "* April and May hires tend to churn at a much higher rate than they are retained. Whereas November hires appear to be the only month that has a higher retention rate than churn rate. This would be something that bears additional exploration on a company to company basis. \n",
    "\n",
    "* To me, churn is typically related to positions and network connections. As a result, I would want to see a much more nuanced picture of employee positions (i.e. Data Scientist, Senior Data Scientist, the specific role of the Engineer, etc.) as well as information about employee network connectedness within the instituion. This would include things like emails, meeting schedules, participation, etc. - as employees tend to be more isolated, they tend to be at a _much_ higher risk of churning. "
   ]
  },
  {
   "cell_type": "markdown",
   "metadata": {},
   "source": [
    "**The table is:**\n",
    "\n",
    "\"employee_retention\" - comprehensive information about employees. Columns:\n",
    "\n",
    "employee_id : id of the employee. Unique by employee per company\n",
    "\n",
    "company_id : company id.\n",
    "\n",
    "dept : employee department\n",
    "\n",
    "seniority : number of yrs of work experience when hired\n",
    "\n",
    "salary: average yearly salary of the employee during her tenure within the company\n",
    "\n",
    "join_date: when the employee joined the company, it can only be between 2011/01/24 and 2015/12/13\n",
    "\n",
    "quit_date: when the employee left her job (if she is still employed as of 2015/12/13, this field is NA)"
   ]
  },
  {
   "cell_type": "code",
   "execution_count": 165,
   "metadata": {},
   "outputs": [],
   "source": [
    "import pandas as pd\n",
    "import numpy as np\n",
    "\n",
    "# Bring in some plotting libraries\n",
    "import seaborn as sns\n",
    "import matplotlib.pyplot as plt\n",
    "import altair as alt\n",
    "alt.renderers.enable('notebook')\n",
    "\n",
    "from datetime import datetime"
   ]
  },
  {
   "cell_type": "code",
   "execution_count": 166,
   "metadata": {},
   "outputs": [
    {
     "name": "stdout",
     "output_type": "stream",
     "text": [
      "Employee Retention Data Challenge.docx \u001b[34mSubmissions\u001b[m\u001b[m\r\n",
      "README.md                              employee_retention.csv\r\n"
     ]
    }
   ],
   "source": [
    "! ls .."
   ]
  },
  {
   "cell_type": "code",
   "execution_count": 205,
   "metadata": {},
   "outputs": [],
   "source": [
    "df = pd.read_csv('../employee_retention.csv', index_col=0)"
   ]
  },
  {
   "cell_type": "code",
   "execution_count": 206,
   "metadata": {},
   "outputs": [
    {
     "data": {
      "text/html": [
       "<div>\n",
       "<style scoped>\n",
       "    .dataframe tbody tr th:only-of-type {\n",
       "        vertical-align: middle;\n",
       "    }\n",
       "\n",
       "    .dataframe tbody tr th {\n",
       "        vertical-align: top;\n",
       "    }\n",
       "\n",
       "    .dataframe thead th {\n",
       "        text-align: right;\n",
       "    }\n",
       "</style>\n",
       "<table border=\"1\" class=\"dataframe\">\n",
       "  <thead>\n",
       "    <tr style=\"text-align: right;\">\n",
       "      <th></th>\n",
       "      <th>employee_id</th>\n",
       "      <th>company_id</th>\n",
       "      <th>dept</th>\n",
       "      <th>seniority</th>\n",
       "      <th>salary</th>\n",
       "      <th>join_date</th>\n",
       "      <th>quit_date</th>\n",
       "    </tr>\n",
       "  </thead>\n",
       "  <tbody>\n",
       "    <tr>\n",
       "      <th>0</th>\n",
       "      <td>1001444.0</td>\n",
       "      <td>8</td>\n",
       "      <td>temp_contractor</td>\n",
       "      <td>0</td>\n",
       "      <td>5850.0</td>\n",
       "      <td>2008-01-26</td>\n",
       "      <td>2008-04-25</td>\n",
       "    </tr>\n",
       "    <tr>\n",
       "      <th>1</th>\n",
       "      <td>388804.0</td>\n",
       "      <td>8</td>\n",
       "      <td>design</td>\n",
       "      <td>21</td>\n",
       "      <td>191000.0</td>\n",
       "      <td>05.17.2011</td>\n",
       "      <td>2012-03-16</td>\n",
       "    </tr>\n",
       "    <tr>\n",
       "      <th>2</th>\n",
       "      <td>407990.0</td>\n",
       "      <td>3</td>\n",
       "      <td>design</td>\n",
       "      <td>9</td>\n",
       "      <td>90000.0</td>\n",
       "      <td>2012-03-26</td>\n",
       "      <td>2015-04-10</td>\n",
       "    </tr>\n",
       "    <tr>\n",
       "      <th>3</th>\n",
       "      <td>120657.0</td>\n",
       "      <td>2</td>\n",
       "      <td>engineer</td>\n",
       "      <td>20</td>\n",
       "      <td>298000.0</td>\n",
       "      <td>2013-04-08</td>\n",
       "      <td>2015-01-30</td>\n",
       "    </tr>\n",
       "    <tr>\n",
       "      <th>4</th>\n",
       "      <td>1006393.0</td>\n",
       "      <td>1</td>\n",
       "      <td>temp_contractor</td>\n",
       "      <td>0</td>\n",
       "      <td>8509.0</td>\n",
       "      <td>2008-07-20</td>\n",
       "      <td>2008-10-18</td>\n",
       "    </tr>\n",
       "  </tbody>\n",
       "</table>\n",
       "</div>"
      ],
      "text/plain": [
       "   employee_id  company_id             dept  seniority    salary   join_date  \\\n",
       "0    1001444.0           8  temp_contractor          0    5850.0  2008-01-26   \n",
       "1     388804.0           8           design         21  191000.0  05.17.2011   \n",
       "2     407990.0           3           design          9   90000.0  2012-03-26   \n",
       "3     120657.0           2         engineer         20  298000.0  2013-04-08   \n",
       "4    1006393.0           1  temp_contractor          0    8509.0  2008-07-20   \n",
       "\n",
       "    quit_date  \n",
       "0  2008-04-25  \n",
       "1  2012-03-16  \n",
       "2  2015-04-10  \n",
       "3  2015-01-30  \n",
       "4  2008-10-18  "
      ]
     },
     "execution_count": 206,
     "metadata": {},
     "output_type": "execute_result"
    }
   ],
   "source": [
    "df.head()"
   ]
  },
  {
   "cell_type": "code",
   "execution_count": 207,
   "metadata": {},
   "outputs": [
    {
     "data": {
      "text/html": [
       "<div>\n",
       "<style scoped>\n",
       "    .dataframe tbody tr th:only-of-type {\n",
       "        vertical-align: middle;\n",
       "    }\n",
       "\n",
       "    .dataframe tbody tr th {\n",
       "        vertical-align: top;\n",
       "    }\n",
       "\n",
       "    .dataframe thead th {\n",
       "        text-align: right;\n",
       "    }\n",
       "</style>\n",
       "<table border=\"1\" class=\"dataframe\">\n",
       "  <thead>\n",
       "    <tr style=\"text-align: right;\">\n",
       "      <th></th>\n",
       "      <th>employee_id</th>\n",
       "      <th>company_id</th>\n",
       "      <th>dept</th>\n",
       "      <th>seniority</th>\n",
       "      <th>salary</th>\n",
       "      <th>join_date</th>\n",
       "      <th>quit_date</th>\n",
       "    </tr>\n",
       "  </thead>\n",
       "  <tbody>\n",
       "    <tr>\n",
       "      <th>count</th>\n",
       "      <td>3.470200e+04</td>\n",
       "      <td>34702.000000</td>\n",
       "      <td>34702</td>\n",
       "      <td>34702.000000</td>\n",
       "      <td>34463.000000</td>\n",
       "      <td>34702</td>\n",
       "      <td>23510</td>\n",
       "    </tr>\n",
       "    <tr>\n",
       "      <th>unique</th>\n",
       "      <td>NaN</td>\n",
       "      <td>NaN</td>\n",
       "      <td>7</td>\n",
       "      <td>NaN</td>\n",
       "      <td>NaN</td>\n",
       "      <td>3124</td>\n",
       "      <td>2008</td>\n",
       "    </tr>\n",
       "    <tr>\n",
       "      <th>top</th>\n",
       "      <td>NaN</td>\n",
       "      <td>NaN</td>\n",
       "      <td>temp_contractor</td>\n",
       "      <td>NaN</td>\n",
       "      <td>NaN</td>\n",
       "      <td>2011-11-28</td>\n",
       "      <td>2015-05-08</td>\n",
       "    </tr>\n",
       "    <tr>\n",
       "      <th>freq</th>\n",
       "      <td>NaN</td>\n",
       "      <td>NaN</td>\n",
       "      <td>10000</td>\n",
       "      <td>NaN</td>\n",
       "      <td>NaN</td>\n",
       "      <td>76</td>\n",
       "      <td>111</td>\n",
       "    </tr>\n",
       "    <tr>\n",
       "      <th>mean</th>\n",
       "      <td>6.466667e+05</td>\n",
       "      <td>4.023370</td>\n",
       "      <td>NaN</td>\n",
       "      <td>10.056625</td>\n",
       "      <td>100280.585004</td>\n",
       "      <td>NaN</td>\n",
       "      <td>NaN</td>\n",
       "    </tr>\n",
       "    <tr>\n",
       "      <th>std</th>\n",
       "      <td>3.337653e+05</td>\n",
       "      <td>2.911201</td>\n",
       "      <td>NaN</td>\n",
       "      <td>9.355505</td>\n",
       "      <td>87322.502536</td>\n",
       "      <td>NaN</td>\n",
       "      <td>NaN</td>\n",
       "    </tr>\n",
       "    <tr>\n",
       "      <th>min</th>\n",
       "      <td>3.600000e+01</td>\n",
       "      <td>1.000000</td>\n",
       "      <td>NaN</td>\n",
       "      <td>0.000000</td>\n",
       "      <td>5000.000000</td>\n",
       "      <td>NaN</td>\n",
       "      <td>NaN</td>\n",
       "    </tr>\n",
       "    <tr>\n",
       "      <th>25%</th>\n",
       "      <td>3.529228e+05</td>\n",
       "      <td>1.000000</td>\n",
       "      <td>NaN</td>\n",
       "      <td>0.000000</td>\n",
       "      <td>9302.000000</td>\n",
       "      <td>NaN</td>\n",
       "      <td>NaN</td>\n",
       "    </tr>\n",
       "    <tr>\n",
       "      <th>50%</th>\n",
       "      <td>7.063230e+05</td>\n",
       "      <td>3.000000</td>\n",
       "      <td>NaN</td>\n",
       "      <td>8.000000</td>\n",
       "      <td>88000.000000</td>\n",
       "      <td>NaN</td>\n",
       "      <td>NaN</td>\n",
       "    </tr>\n",
       "    <tr>\n",
       "      <th>75%</th>\n",
       "      <td>1.001324e+06</td>\n",
       "      <td>6.000000</td>\n",
       "      <td>NaN</td>\n",
       "      <td>18.000000</td>\n",
       "      <td>158000.000000</td>\n",
       "      <td>NaN</td>\n",
       "      <td>NaN</td>\n",
       "    </tr>\n",
       "    <tr>\n",
       "      <th>max</th>\n",
       "      <td>1.009999e+06</td>\n",
       "      <td>12.000000</td>\n",
       "      <td>NaN</td>\n",
       "      <td>99.000000</td>\n",
       "      <td>408000.000000</td>\n",
       "      <td>NaN</td>\n",
       "      <td>NaN</td>\n",
       "    </tr>\n",
       "  </tbody>\n",
       "</table>\n",
       "</div>"
      ],
      "text/plain": [
       "         employee_id    company_id             dept     seniority  \\\n",
       "count   3.470200e+04  34702.000000            34702  34702.000000   \n",
       "unique           NaN           NaN                7           NaN   \n",
       "top              NaN           NaN  temp_contractor           NaN   \n",
       "freq             NaN           NaN            10000           NaN   \n",
       "mean    6.466667e+05      4.023370              NaN     10.056625   \n",
       "std     3.337653e+05      2.911201              NaN      9.355505   \n",
       "min     3.600000e+01      1.000000              NaN      0.000000   \n",
       "25%     3.529228e+05      1.000000              NaN      0.000000   \n",
       "50%     7.063230e+05      3.000000              NaN      8.000000   \n",
       "75%     1.001324e+06      6.000000              NaN     18.000000   \n",
       "max     1.009999e+06     12.000000              NaN     99.000000   \n",
       "\n",
       "               salary   join_date   quit_date  \n",
       "count    34463.000000       34702       23510  \n",
       "unique            NaN        3124        2008  \n",
       "top               NaN  2011-11-28  2015-05-08  \n",
       "freq              NaN          76         111  \n",
       "mean    100280.585004         NaN         NaN  \n",
       "std      87322.502536         NaN         NaN  \n",
       "min       5000.000000         NaN         NaN  \n",
       "25%       9302.000000         NaN         NaN  \n",
       "50%      88000.000000         NaN         NaN  \n",
       "75%     158000.000000         NaN         NaN  \n",
       "max     408000.000000         NaN         NaN  "
      ]
     },
     "execution_count": 207,
     "metadata": {},
     "output_type": "execute_result"
    }
   ],
   "source": [
    "df.describe(include='all')"
   ]
  },
  {
   "cell_type": "code",
   "execution_count": 208,
   "metadata": {},
   "outputs": [
    {
     "name": "stdout",
     "output_type": "stream",
     "text": [
      "<class 'pandas.core.frame.DataFrame'>\n",
      "Int64Index: 34702 entries, 0 to 34701\n",
      "Data columns (total 7 columns):\n",
      "employee_id    34702 non-null float64\n",
      "company_id     34702 non-null int64\n",
      "dept           34702 non-null object\n",
      "seniority      34702 non-null int64\n",
      "salary         34463 non-null float64\n",
      "join_date      34702 non-null object\n",
      "quit_date      23510 non-null object\n",
      "dtypes: float64(2), int64(2), object(3)\n",
      "memory usage: 2.1+ MB\n"
     ]
    }
   ],
   "source": [
    "df.info()"
   ]
  },
  {
   "cell_type": "code",
   "execution_count": 209,
   "metadata": {},
   "outputs": [
    {
     "data": {
      "text/plain": [
       "employee_id        0\n",
       "company_id         0\n",
       "dept               0\n",
       "seniority          0\n",
       "salary           239\n",
       "join_date          0\n",
       "quit_date      11192\n",
       "dtype: int64"
      ]
     },
     "execution_count": 209,
     "metadata": {},
     "output_type": "execute_result"
    }
   ],
   "source": [
    "df.isnull().sum()"
   ]
  },
  {
   "cell_type": "code",
   "execution_count": 210,
   "metadata": {},
   "outputs": [
    {
     "data": {
      "text/html": [
       "<div>\n",
       "<style scoped>\n",
       "    .dataframe tbody tr th:only-of-type {\n",
       "        vertical-align: middle;\n",
       "    }\n",
       "\n",
       "    .dataframe tbody tr th {\n",
       "        vertical-align: top;\n",
       "    }\n",
       "\n",
       "    .dataframe thead th {\n",
       "        text-align: right;\n",
       "    }\n",
       "</style>\n",
       "<table border=\"1\" class=\"dataframe\">\n",
       "  <thead>\n",
       "    <tr style=\"text-align: right;\">\n",
       "      <th></th>\n",
       "      <th>employee_id</th>\n",
       "      <th>company_id</th>\n",
       "      <th>dept</th>\n",
       "      <th>seniority</th>\n",
       "      <th>salary</th>\n",
       "      <th>join_date</th>\n",
       "      <th>quit_date</th>\n",
       "    </tr>\n",
       "  </thead>\n",
       "  <tbody>\n",
       "    <tr>\n",
       "      <th>16</th>\n",
       "      <td>488083.0</td>\n",
       "      <td>1</td>\n",
       "      <td>engineer</td>\n",
       "      <td>8</td>\n",
       "      <td>NaN</td>\n",
       "      <td>2011-06-13</td>\n",
       "      <td>2013-06-07</td>\n",
       "    </tr>\n",
       "    <tr>\n",
       "      <th>41</th>\n",
       "      <td>259298.0</td>\n",
       "      <td>1</td>\n",
       "      <td>engineer</td>\n",
       "      <td>9</td>\n",
       "      <td>NaN</td>\n",
       "      <td>11.07.2011</td>\n",
       "      <td>2015-10-16</td>\n",
       "    </tr>\n",
       "    <tr>\n",
       "      <th>194</th>\n",
       "      <td>699687.0</td>\n",
       "      <td>3</td>\n",
       "      <td>customer_service</td>\n",
       "      <td>3</td>\n",
       "      <td>NaN</td>\n",
       "      <td>2014-10-13</td>\n",
       "      <td>NaN</td>\n",
       "    </tr>\n",
       "    <tr>\n",
       "      <th>245</th>\n",
       "      <td>210853.0</td>\n",
       "      <td>7</td>\n",
       "      <td>customer_service</td>\n",
       "      <td>4</td>\n",
       "      <td>NaN</td>\n",
       "      <td>2012-09-10</td>\n",
       "      <td>2013-10-04</td>\n",
       "    </tr>\n",
       "    <tr>\n",
       "      <th>310</th>\n",
       "      <td>63729.0</td>\n",
       "      <td>1</td>\n",
       "      <td>marketing</td>\n",
       "      <td>5</td>\n",
       "      <td>NaN</td>\n",
       "      <td>2012-03-19</td>\n",
       "      <td>2013-05-31</td>\n",
       "    </tr>\n",
       "  </tbody>\n",
       "</table>\n",
       "</div>"
      ],
      "text/plain": [
       "     employee_id  company_id              dept  seniority  salary   join_date  \\\n",
       "16      488083.0           1          engineer          8     NaN  2011-06-13   \n",
       "41      259298.0           1          engineer          9     NaN  11.07.2011   \n",
       "194     699687.0           3  customer_service          3     NaN  2014-10-13   \n",
       "245     210853.0           7  customer_service          4     NaN  2012-09-10   \n",
       "310      63729.0           1         marketing          5     NaN  2012-03-19   \n",
       "\n",
       "      quit_date  \n",
       "16   2013-06-07  \n",
       "41   2015-10-16  \n",
       "194         NaN  \n",
       "245  2013-10-04  \n",
       "310  2013-05-31  "
      ]
     },
     "execution_count": 210,
     "metadata": {},
     "output_type": "execute_result"
    }
   ],
   "source": [
    "# Check missing salaries\n",
    "df.query('salary.isnull()', engine='python').head()"
   ]
  },
  {
   "cell_type": "code",
   "execution_count": 211,
   "metadata": {},
   "outputs": [],
   "source": [
    "# Doesn't seem like too big a deal to drop them\n",
    "df = df[pd.notnull(df['salary'])].reset_index(drop=True)"
   ]
  },
  {
   "cell_type": "code",
   "execution_count": 212,
   "metadata": {},
   "outputs": [
    {
     "data": {
      "text/plain": [
       "array(['temp_contractor', 'design', 'engineer', 'marketing',\n",
       "       'customer_service', 'data_science', 'sales'], dtype=object)"
      ]
     },
     "execution_count": 212,
     "metadata": {},
     "output_type": "execute_result"
    }
   ],
   "source": [
    "df.dept.unique()"
   ]
  },
  {
   "cell_type": "code",
   "execution_count": 213,
   "metadata": {},
   "outputs": [],
   "source": [
    "# Clearly temp_contractors aren't of interest to this analysis and will skew results, need to drop them\n",
    "df = df[df['dept'] != 'temp_contractor']"
   ]
  },
  {
   "cell_type": "code",
   "execution_count": 214,
   "metadata": {},
   "outputs": [],
   "source": [
    "# Also, ain't nobody has worked for a company for 99 years, let's drop anything above 30\n",
    "df = df[df['seniority'] < 30]"
   ]
  },
  {
   "cell_type": "code",
   "execution_count": 215,
   "metadata": {},
   "outputs": [
    {
     "data": {
      "text/plain": [
       "array([ 8,  3,  2,  5,  7, 10,  1,  6,  4,  9, 12, 11])"
      ]
     },
     "execution_count": 215,
     "metadata": {},
     "output_type": "execute_result"
    }
   ],
   "source": [
    "# Looks like I'm working with data from 12 companies\n",
    "df.company_id.unique()"
   ]
  },
  {
   "cell_type": "code",
   "execution_count": 231,
   "metadata": {},
   "outputs": [],
   "source": [
    "# Convert join/quit dates to datetime\n",
    "df.quit_date = pd.to_datetime(df.quit_date)\n",
    "df.join_date = pd.to_datetime(df.join_date)\n",
    "df['tenure'] = (df.quit_date - df.join_date).dt.days"
   ]
  },
  {
   "cell_type": "code",
   "execution_count": 217,
   "metadata": {},
   "outputs": [],
   "source": [
    "# Create binary column - churned or not\n",
    "df['retained'] = np.where(df['quit_date'].isnull(), 1, 0)"
   ]
  },
  {
   "cell_type": "code",
   "execution_count": 232,
   "metadata": {},
   "outputs": [
    {
     "data": {
      "text/html": [
       "<div>\n",
       "<style scoped>\n",
       "    .dataframe tbody tr th:only-of-type {\n",
       "        vertical-align: middle;\n",
       "    }\n",
       "\n",
       "    .dataframe tbody tr th {\n",
       "        vertical-align: top;\n",
       "    }\n",
       "\n",
       "    .dataframe thead th {\n",
       "        text-align: right;\n",
       "    }\n",
       "</style>\n",
       "<table border=\"1\" class=\"dataframe\">\n",
       "  <thead>\n",
       "    <tr style=\"text-align: right;\">\n",
       "      <th></th>\n",
       "      <th>employee_id</th>\n",
       "      <th>company_id</th>\n",
       "      <th>dept</th>\n",
       "      <th>seniority</th>\n",
       "      <th>salary</th>\n",
       "      <th>join_date</th>\n",
       "      <th>quit_date</th>\n",
       "      <th>tenure</th>\n",
       "      <th>retained</th>\n",
       "    </tr>\n",
       "  </thead>\n",
       "  <tbody>\n",
       "    <tr>\n",
       "      <th>1</th>\n",
       "      <td>388804.0</td>\n",
       "      <td>8</td>\n",
       "      <td>design</td>\n",
       "      <td>21</td>\n",
       "      <td>191000.0</td>\n",
       "      <td>2011-05-17</td>\n",
       "      <td>2012-03-16</td>\n",
       "      <td>304.0</td>\n",
       "      <td>0</td>\n",
       "    </tr>\n",
       "    <tr>\n",
       "      <th>2</th>\n",
       "      <td>407990.0</td>\n",
       "      <td>3</td>\n",
       "      <td>design</td>\n",
       "      <td>9</td>\n",
       "      <td>90000.0</td>\n",
       "      <td>2012-03-26</td>\n",
       "      <td>2015-04-10</td>\n",
       "      <td>1110.0</td>\n",
       "      <td>0</td>\n",
       "    </tr>\n",
       "    <tr>\n",
       "      <th>3</th>\n",
       "      <td>120657.0</td>\n",
       "      <td>2</td>\n",
       "      <td>engineer</td>\n",
       "      <td>20</td>\n",
       "      <td>298000.0</td>\n",
       "      <td>2013-04-08</td>\n",
       "      <td>2015-01-30</td>\n",
       "      <td>662.0</td>\n",
       "      <td>0</td>\n",
       "    </tr>\n",
       "    <tr>\n",
       "      <th>5</th>\n",
       "      <td>287530.0</td>\n",
       "      <td>5</td>\n",
       "      <td>marketing</td>\n",
       "      <td>20</td>\n",
       "      <td>180000.0</td>\n",
       "      <td>2014-06-30</td>\n",
       "      <td>NaT</td>\n",
       "      <td>NaN</td>\n",
       "      <td>1</td>\n",
       "    </tr>\n",
       "    <tr>\n",
       "      <th>6</th>\n",
       "      <td>561043.0</td>\n",
       "      <td>3</td>\n",
       "      <td>customer_service</td>\n",
       "      <td>18</td>\n",
       "      <td>119000.0</td>\n",
       "      <td>2012-07-02</td>\n",
       "      <td>2014-03-28</td>\n",
       "      <td>634.0</td>\n",
       "      <td>0</td>\n",
       "    </tr>\n",
       "  </tbody>\n",
       "</table>\n",
       "</div>"
      ],
      "text/plain": [
       "   employee_id  company_id              dept  seniority    salary  join_date  \\\n",
       "1     388804.0           8            design         21  191000.0 2011-05-17   \n",
       "2     407990.0           3            design          9   90000.0 2012-03-26   \n",
       "3     120657.0           2          engineer         20  298000.0 2013-04-08   \n",
       "5     287530.0           5         marketing         20  180000.0 2014-06-30   \n",
       "6     561043.0           3  customer_service         18  119000.0 2012-07-02   \n",
       "\n",
       "   quit_date  tenure  retained  \n",
       "1 2012-03-16   304.0         0  \n",
       "2 2015-04-10  1110.0         0  \n",
       "3 2015-01-30   662.0         0  \n",
       "5        NaT     NaN         1  \n",
       "6 2014-03-28   634.0         0  "
      ]
     },
     "execution_count": 232,
     "metadata": {},
     "output_type": "execute_result"
    }
   ],
   "source": [
    "df.head()"
   ]
  },
  {
   "cell_type": "code",
   "execution_count": 219,
   "metadata": {},
   "outputs": [
    {
     "data": {
      "application/javascript": [
       "var spec = {\"config\": {\"view\": {\"width\": 400, \"height\": 300}}, \"data\": {\"name\": \"data-9d564f9d64b43e6e770b28c55c2129a3\"}, \"mark\": \"bar\", \"encoding\": {\"color\": {\"type\": \"nominal\", \"field\": \"company_id\"}, \"x\": {\"type\": \"quantitative\", \"axis\": {\"title\": \"Number of Employees by Company\"}, \"field\": \"salary\"}, \"y\": {\"type\": \"nominal\", \"field\": \"company_id\"}}, \"$schema\": \"https://vega.github.io/schema/vega-lite/v2.6.0.json\", \"datasets\": {\"data-9d564f9d64b43e6e770b28c55c2129a3\": [{\"company_id\": 1, \"employee_id\": 8407, \"dept\": 8407, \"seniority\": 8407, \"salary\": 8407, \"join_date\": 8407, \"quit_date\": 4581, \"tenure\": 4581, \"retained\": 8407}, {\"company_id\": 2, \"employee_id\": 4180, \"dept\": 4180, \"seniority\": 4180, \"salary\": 4180, \"join_date\": 4180, \"quit_date\": 2181, \"tenure\": 2181, \"retained\": 4180}, {\"company_id\": 3, \"employee_id\": 2724, \"dept\": 2724, \"seniority\": 2724, \"salary\": 2724, \"join_date\": 2724, \"quit_date\": 1519, \"tenure\": 1519, \"retained\": 2724}, {\"company_id\": 4, \"employee_id\": 2042, \"dept\": 2042, \"seniority\": 2042, \"salary\": 2042, \"join_date\": 2042, \"quit_date\": 1142, \"tenure\": 1142, \"retained\": 2042}, {\"company_id\": 5, \"employee_id\": 1740, \"dept\": 1740, \"seniority\": 1740, \"salary\": 1740, \"join_date\": 1740, \"quit_date\": 976, \"tenure\": 976, \"retained\": 1740}, {\"company_id\": 6, \"employee_id\": 1276, \"dept\": 1276, \"seniority\": 1276, \"salary\": 1276, \"join_date\": 1276, \"quit_date\": 703, \"tenure\": 703, \"retained\": 1276}, {\"company_id\": 7, \"employee_id\": 1209, \"dept\": 1209, \"seniority\": 1209, \"salary\": 1209, \"join_date\": 1209, \"quit_date\": 683, \"tenure\": 683, \"retained\": 1209}, {\"company_id\": 8, \"employee_id\": 1032, \"dept\": 1032, \"seniority\": 1032, \"salary\": 1032, \"join_date\": 1032, \"quit_date\": 568, \"tenure\": 568, \"retained\": 1032}, {\"company_id\": 9, \"employee_id\": 954, \"dept\": 954, \"seniority\": 954, \"salary\": 954, \"join_date\": 954, \"quit_date\": 524, \"tenure\": 524, \"retained\": 954}, {\"company_id\": 10, \"employee_id\": 858, \"dept\": 858, \"seniority\": 858, \"salary\": 858, \"join_date\": 858, \"quit_date\": 476, \"tenure\": 476, \"retained\": 858}, {\"company_id\": 11, \"employee_id\": 16, \"dept\": 16, \"seniority\": 16, \"salary\": 16, \"join_date\": 16, \"quit_date\": 12, \"tenure\": 12, \"retained\": 16}, {\"company_id\": 12, \"employee_id\": 23, \"dept\": 23, \"seniority\": 23, \"salary\": 23, \"join_date\": 23, \"quit_date\": 12, \"tenure\": 12, \"retained\": 23}]}};\n",
       "var opt = {};\n",
       "var type = \"vega-lite\";\n",
       "var id = \"3d5e44e7-5203-44ad-9100-f9642f791f7b\";\n",
       "\n",
       "var output_area = this;\n",
       "\n",
       "require([\"nbextensions/jupyter-vega/index\"], function(vega) {\n",
       "  var target = document.createElement(\"div\");\n",
       "  target.id = id;\n",
       "  target.className = \"vega-embed\";\n",
       "\n",
       "  var style = document.createElement(\"style\");\n",
       "  style.textContent = [\n",
       "    \".vega-embed .error p {\",\n",
       "    \"  color: firebrick;\",\n",
       "    \"  font-size: 14px;\",\n",
       "    \"}\",\n",
       "  ].join(\"\\\\n\");\n",
       "\n",
       "  // element is a jQuery wrapped DOM element inside the output area\n",
       "  // see http://ipython.readthedocs.io/en/stable/api/generated/\\\n",
       "  // IPython.display.html#IPython.display.Javascript.__init__\n",
       "  element[0].appendChild(target);\n",
       "  element[0].appendChild(style);\n",
       "\n",
       "  vega.render(\"#\" + id, spec, type, opt, output_area);\n",
       "}, function (err) {\n",
       "  if (err.requireType !== \"scripterror\") {\n",
       "    throw(err);\n",
       "  }\n",
       "});\n"
      ],
      "text/plain": [
       "<vega.vegalite.VegaLite at 0x11a584400>"
      ]
     },
     "metadata": {
      "jupyter-vega": "#3d5e44e7-5203-44ad-9100-f9642f791f7b"
     },
     "output_type": "display_data"
    },
    {
     "data": {
      "text/plain": []
     },
     "execution_count": 219,
     "metadata": {},
     "output_type": "execute_result"
    },
    {
     "data": {
      "image/png": "[encoded data removed]"
     },
     "metadata": {
      "jupyter-vega": "#3d5e44e7-5203-44ad-9100-f9642f791f7b"
     },
     "output_type": "display_data"
    }
   ],
   "source": [
    "# Taking a look at the companies themeselves - by headcount\n",
    "source = df.groupby(['company_id']).count().reset_index()\n",
    "\n",
    "alt.Chart(source).mark_bar().encode(\n",
    "    y='company_id:N',\n",
    "    color='company_id:N',\n",
    "    x=alt.X('salary', axis=alt.Axis(title='Number of Employees by Company'))\n",
    ")"
   ]
  },
  {
   "cell_type": "markdown",
   "metadata": {},
   "source": [
    "Seems there are major imbalances in the size of the companies in the dataset. This really limits the potential of creating meaningful insights across each of the companies because they seem to be structurally different. "
   ]
  },
  {
   "cell_type": "code",
   "execution_count": 220,
   "metadata": {},
   "outputs": [
    {
     "data": {
      "text/plain": [
       "<matplotlib.axes._subplots.AxesSubplot at 0x11a58c7f0>"
      ]
     },
     "execution_count": 220,
     "metadata": {},
     "output_type": "execute_result"
    },
    {
     "data": {
      "image/png": "[encoded data removed]",
      "text/plain": [
       "<Figure size 432x288 with 2 Axes>"
      ]
     },
     "metadata": {
      "needs_background": "light"
     },
     "output_type": "display_data"
    }
   ],
   "source": [
    "corr = df.corr(method=\"pearson\")\n",
    "sns.heatmap(corr)"
   ]
  },
  {
   "cell_type": "code",
   "execution_count": 221,
   "metadata": {},
   "outputs": [
    {
     "data": {
      "text/html": [
       "<div>\n",
       "<style scoped>\n",
       "    .dataframe tbody tr th:only-of-type {\n",
       "        vertical-align: middle;\n",
       "    }\n",
       "\n",
       "    .dataframe tbody tr th {\n",
       "        vertical-align: top;\n",
       "    }\n",
       "\n",
       "    .dataframe thead th {\n",
       "        text-align: right;\n",
       "    }\n",
       "</style>\n",
       "<table border=\"1\" class=\"dataframe\">\n",
       "  <thead>\n",
       "    <tr style=\"text-align: right;\">\n",
       "      <th>dept</th>\n",
       "      <th>customer_service</th>\n",
       "      <th>data_science</th>\n",
       "      <th>design</th>\n",
       "      <th>engineer</th>\n",
       "      <th>marketing</th>\n",
       "      <th>sales</th>\n",
       "      <th>All</th>\n",
       "    </tr>\n",
       "    <tr>\n",
       "      <th>retained</th>\n",
       "      <th></th>\n",
       "      <th></th>\n",
       "      <th></th>\n",
       "      <th></th>\n",
       "      <th></th>\n",
       "      <th></th>\n",
       "      <th></th>\n",
       "    </tr>\n",
       "  </thead>\n",
       "  <tbody>\n",
       "    <tr>\n",
       "      <th>0</th>\n",
       "      <td>0.554847</td>\n",
       "      <td>0.526766</td>\n",
       "      <td>0.563277</td>\n",
       "      <td>0.511821</td>\n",
       "      <td>0.563538</td>\n",
       "      <td>0.571156</td>\n",
       "      <td>0.546871</td>\n",
       "    </tr>\n",
       "    <tr>\n",
       "      <th>1</th>\n",
       "      <td>0.445153</td>\n",
       "      <td>0.473234</td>\n",
       "      <td>0.436723</td>\n",
       "      <td>0.488179</td>\n",
       "      <td>0.436462</td>\n",
       "      <td>0.428844</td>\n",
       "      <td>0.453129</td>\n",
       "    </tr>\n",
       "  </tbody>\n",
       "</table>\n",
       "</div>"
      ],
      "text/plain": [
       "dept      customer_service  data_science    design  engineer  marketing  \\\n",
       "retained                                                                  \n",
       "0                 0.554847      0.526766  0.563277  0.511821   0.563538   \n",
       "1                 0.445153      0.473234  0.436723  0.488179   0.436462   \n",
       "\n",
       "dept         sales       All  \n",
       "retained                      \n",
       "0         0.571156  0.546871  \n",
       "1         0.428844  0.453129  "
      ]
     },
     "execution_count": 221,
     "metadata": {},
     "output_type": "execute_result"
    }
   ],
   "source": [
    "# Check to see if there is a retention problem by department\n",
    "# Seems like sales, design, and marketing employees are most likely to leave \n",
    "# while engineers and data scientists are most likely to stay on at the companies \n",
    "# in the dataset \n",
    "pd.crosstab(df.retained, df.dept, margins=True, normalize='columns')"
   ]
  },
  {
   "cell_type": "code",
   "execution_count": 222,
   "metadata": {},
   "outputs": [
    {
     "data": {
      "text/html": [
       "<div>\n",
       "<style scoped>\n",
       "    .dataframe tbody tr th:only-of-type {\n",
       "        vertical-align: middle;\n",
       "    }\n",
       "\n",
       "    .dataframe tbody tr th {\n",
       "        vertical-align: top;\n",
       "    }\n",
       "\n",
       "    .dataframe thead th {\n",
       "        text-align: right;\n",
       "    }\n",
       "</style>\n",
       "<table border=\"1\" class=\"dataframe\">\n",
       "  <thead>\n",
       "    <tr style=\"text-align: right;\">\n",
       "      <th>retained</th>\n",
       "      <th>0</th>\n",
       "      <th>1</th>\n",
       "    </tr>\n",
       "    <tr>\n",
       "      <th>company_id</th>\n",
       "      <th></th>\n",
       "      <th></th>\n",
       "    </tr>\n",
       "  </thead>\n",
       "  <tbody>\n",
       "    <tr>\n",
       "      <th>1</th>\n",
       "      <td>0.544903</td>\n",
       "      <td>0.455097</td>\n",
       "    </tr>\n",
       "    <tr>\n",
       "      <th>2</th>\n",
       "      <td>0.521770</td>\n",
       "      <td>0.478230</td>\n",
       "    </tr>\n",
       "    <tr>\n",
       "      <th>3</th>\n",
       "      <td>0.557636</td>\n",
       "      <td>0.442364</td>\n",
       "    </tr>\n",
       "    <tr>\n",
       "      <th>4</th>\n",
       "      <td>0.559256</td>\n",
       "      <td>0.440744</td>\n",
       "    </tr>\n",
       "    <tr>\n",
       "      <th>5</th>\n",
       "      <td>0.560920</td>\n",
       "      <td>0.439080</td>\n",
       "    </tr>\n",
       "    <tr>\n",
       "      <th>6</th>\n",
       "      <td>0.550940</td>\n",
       "      <td>0.449060</td>\n",
       "    </tr>\n",
       "    <tr>\n",
       "      <th>7</th>\n",
       "      <td>0.564930</td>\n",
       "      <td>0.435070</td>\n",
       "    </tr>\n",
       "    <tr>\n",
       "      <th>8</th>\n",
       "      <td>0.550388</td>\n",
       "      <td>0.449612</td>\n",
       "    </tr>\n",
       "    <tr>\n",
       "      <th>9</th>\n",
       "      <td>0.549266</td>\n",
       "      <td>0.450734</td>\n",
       "    </tr>\n",
       "    <tr>\n",
       "      <th>10</th>\n",
       "      <td>0.554779</td>\n",
       "      <td>0.445221</td>\n",
       "    </tr>\n",
       "    <tr>\n",
       "      <th>11</th>\n",
       "      <td>0.750000</td>\n",
       "      <td>0.250000</td>\n",
       "    </tr>\n",
       "    <tr>\n",
       "      <th>12</th>\n",
       "      <td>0.521739</td>\n",
       "      <td>0.478261</td>\n",
       "    </tr>\n",
       "    <tr>\n",
       "      <th>All</th>\n",
       "      <td>0.546871</td>\n",
       "      <td>0.453129</td>\n",
       "    </tr>\n",
       "  </tbody>\n",
       "</table>\n",
       "</div>"
      ],
      "text/plain": [
       "retained           0         1\n",
       "company_id                    \n",
       "1           0.544903  0.455097\n",
       "2           0.521770  0.478230\n",
       "3           0.557636  0.442364\n",
       "4           0.559256  0.440744\n",
       "5           0.560920  0.439080\n",
       "6           0.550940  0.449060\n",
       "7           0.564930  0.435070\n",
       "8           0.550388  0.449612\n",
       "9           0.549266  0.450734\n",
       "10          0.554779  0.445221\n",
       "11          0.750000  0.250000\n",
       "12          0.521739  0.478261\n",
       "All         0.546871  0.453129"
      ]
     },
     "execution_count": 222,
     "metadata": {},
     "output_type": "execute_result"
    }
   ],
   "source": [
    "# Retention problem by company?\n",
    "# Company 11 has some serious retention issues - must be a toxic workplace\n",
    "# edit: looks like company 11 is just really small, only 16 employees in the dataset\n",
    "# so this trend could just be that it's a startup and maybe employees got burned out\n",
    "# working long hours\n",
    "pd.crosstab(df.company_id, df.retained, margins=True, normalize='index')"
   ]
  },
  {
   "cell_type": "code",
   "execution_count": 223,
   "metadata": {},
   "outputs": [
    {
     "data": {
      "text/html": [
       "<div>\n",
       "<style scoped>\n",
       "    .dataframe tbody tr th:only-of-type {\n",
       "        vertical-align: middle;\n",
       "    }\n",
       "\n",
       "    .dataframe tbody tr th {\n",
       "        vertical-align: top;\n",
       "    }\n",
       "\n",
       "    .dataframe thead th {\n",
       "        text-align: right;\n",
       "    }\n",
       "</style>\n",
       "<table border=\"1\" class=\"dataframe\">\n",
       "  <thead>\n",
       "    <tr style=\"text-align: right;\">\n",
       "      <th></th>\n",
       "      <th>retained</th>\n",
       "      <th>0</th>\n",
       "      <th>1</th>\n",
       "    </tr>\n",
       "    <tr>\n",
       "      <th>dept</th>\n",
       "      <th>company_id</th>\n",
       "      <th></th>\n",
       "      <th></th>\n",
       "    </tr>\n",
       "  </thead>\n",
       "  <tbody>\n",
       "    <tr>\n",
       "      <th rowspan=\"12\" valign=\"top\">customer_service</th>\n",
       "      <th>1</th>\n",
       "      <td>0.572387</td>\n",
       "      <td>0.427613</td>\n",
       "    </tr>\n",
       "    <tr>\n",
       "      <th>2</th>\n",
       "      <td>0.541176</td>\n",
       "      <td>0.458824</td>\n",
       "    </tr>\n",
       "    <tr>\n",
       "      <th>3</th>\n",
       "      <td>0.538000</td>\n",
       "      <td>0.462000</td>\n",
       "    </tr>\n",
       "    <tr>\n",
       "      <th>4</th>\n",
       "      <td>0.535761</td>\n",
       "      <td>0.464239</td>\n",
       "    </tr>\n",
       "    <tr>\n",
       "      <th>5</th>\n",
       "      <td>0.559429</td>\n",
       "      <td>0.440571</td>\n",
       "    </tr>\n",
       "    <tr>\n",
       "      <th>6</th>\n",
       "      <td>0.519192</td>\n",
       "      <td>0.480808</td>\n",
       "    </tr>\n",
       "    <tr>\n",
       "      <th>7</th>\n",
       "      <td>0.570815</td>\n",
       "      <td>0.429185</td>\n",
       "    </tr>\n",
       "    <tr>\n",
       "      <th>8</th>\n",
       "      <td>0.563492</td>\n",
       "      <td>0.436508</td>\n",
       "    </tr>\n",
       "    <tr>\n",
       "      <th>9</th>\n",
       "      <td>0.545455</td>\n",
       "      <td>0.454545</td>\n",
       "    </tr>\n",
       "    <tr>\n",
       "      <th>10</th>\n",
       "      <td>0.567568</td>\n",
       "      <td>0.432432</td>\n",
       "    </tr>\n",
       "    <tr>\n",
       "      <th>11</th>\n",
       "      <td>0.500000</td>\n",
       "      <td>0.500000</td>\n",
       "    </tr>\n",
       "    <tr>\n",
       "      <th>12</th>\n",
       "      <td>0.636364</td>\n",
       "      <td>0.363636</td>\n",
       "    </tr>\n",
       "    <tr>\n",
       "      <th rowspan=\"12\" valign=\"top\">data_science</th>\n",
       "      <th>1</th>\n",
       "      <td>0.525234</td>\n",
       "      <td>0.474766</td>\n",
       "    </tr>\n",
       "    <tr>\n",
       "      <th>2</th>\n",
       "      <td>0.471530</td>\n",
       "      <td>0.528470</td>\n",
       "    </tr>\n",
       "    <tr>\n",
       "      <th>3</th>\n",
       "      <td>0.559420</td>\n",
       "      <td>0.440580</td>\n",
       "    </tr>\n",
       "    <tr>\n",
       "      <th>4</th>\n",
       "      <td>0.574007</td>\n",
       "      <td>0.425993</td>\n",
       "    </tr>\n",
       "    <tr>\n",
       "      <th>5</th>\n",
       "      <td>0.530516</td>\n",
       "      <td>0.469484</td>\n",
       "    </tr>\n",
       "    <tr>\n",
       "      <th>6</th>\n",
       "      <td>0.556291</td>\n",
       "      <td>0.443709</td>\n",
       "    </tr>\n",
       "    <tr>\n",
       "      <th>7</th>\n",
       "      <td>0.563758</td>\n",
       "      <td>0.436242</td>\n",
       "    </tr>\n",
       "    <tr>\n",
       "      <th>8</th>\n",
       "      <td>0.545455</td>\n",
       "      <td>0.454545</td>\n",
       "    </tr>\n",
       "    <tr>\n",
       "      <th>9</th>\n",
       "      <td>0.526316</td>\n",
       "      <td>0.473684</td>\n",
       "    </tr>\n",
       "    <tr>\n",
       "      <th>10</th>\n",
       "      <td>0.472222</td>\n",
       "      <td>0.527778</td>\n",
       "    </tr>\n",
       "    <tr>\n",
       "      <th>11</th>\n",
       "      <td>1.000000</td>\n",
       "      <td>0.000000</td>\n",
       "    </tr>\n",
       "    <tr>\n",
       "      <th>12</th>\n",
       "      <td>0.500000</td>\n",
       "      <td>0.500000</td>\n",
       "    </tr>\n",
       "    <tr>\n",
       "      <th rowspan=\"6\" valign=\"top\">design</th>\n",
       "      <th>1</th>\n",
       "      <td>0.539715</td>\n",
       "      <td>0.460285</td>\n",
       "    </tr>\n",
       "    <tr>\n",
       "      <th>2</th>\n",
       "      <td>0.565022</td>\n",
       "      <td>0.434978</td>\n",
       "    </tr>\n",
       "    <tr>\n",
       "      <th>3</th>\n",
       "      <td>0.574468</td>\n",
       "      <td>0.425532</td>\n",
       "    </tr>\n",
       "    <tr>\n",
       "      <th>4</th>\n",
       "      <td>0.566038</td>\n",
       "      <td>0.433962</td>\n",
       "    </tr>\n",
       "    <tr>\n",
       "      <th>5</th>\n",
       "      <td>0.654206</td>\n",
       "      <td>0.345794</td>\n",
       "    </tr>\n",
       "    <tr>\n",
       "      <th>6</th>\n",
       "      <td>0.584416</td>\n",
       "      <td>0.415584</td>\n",
       "    </tr>\n",
       "    <tr>\n",
       "      <th>...</th>\n",
       "      <th>...</th>\n",
       "      <td>...</td>\n",
       "      <td>...</td>\n",
       "    </tr>\n",
       "    <tr>\n",
       "      <th rowspan=\"7\" valign=\"top\">engineer</th>\n",
       "      <th>6</th>\n",
       "      <td>0.527523</td>\n",
       "      <td>0.472477</td>\n",
       "    </tr>\n",
       "    <tr>\n",
       "      <th>7</th>\n",
       "      <td>0.551570</td>\n",
       "      <td>0.448430</td>\n",
       "    </tr>\n",
       "    <tr>\n",
       "      <th>8</th>\n",
       "      <td>0.536842</td>\n",
       "      <td>0.463158</td>\n",
       "    </tr>\n",
       "    <tr>\n",
       "      <th>9</th>\n",
       "      <td>0.562162</td>\n",
       "      <td>0.437838</td>\n",
       "    </tr>\n",
       "    <tr>\n",
       "      <th>10</th>\n",
       "      <td>0.547059</td>\n",
       "      <td>0.452941</td>\n",
       "    </tr>\n",
       "    <tr>\n",
       "      <th>11</th>\n",
       "      <td>0.833333</td>\n",
       "      <td>0.166667</td>\n",
       "    </tr>\n",
       "    <tr>\n",
       "      <th>12</th>\n",
       "      <td>0.250000</td>\n",
       "      <td>0.750000</td>\n",
       "    </tr>\n",
       "    <tr>\n",
       "      <th rowspan=\"12\" valign=\"top\">marketing</th>\n",
       "      <th>1</th>\n",
       "      <td>0.570764</td>\n",
       "      <td>0.429236</td>\n",
       "    </tr>\n",
       "    <tr>\n",
       "      <th>2</th>\n",
       "      <td>0.543925</td>\n",
       "      <td>0.456075</td>\n",
       "    </tr>\n",
       "    <tr>\n",
       "      <th>3</th>\n",
       "      <td>0.580381</td>\n",
       "      <td>0.419619</td>\n",
       "    </tr>\n",
       "    <tr>\n",
       "      <th>4</th>\n",
       "      <td>0.581749</td>\n",
       "      <td>0.418251</td>\n",
       "    </tr>\n",
       "    <tr>\n",
       "      <th>5</th>\n",
       "      <td>0.508929</td>\n",
       "      <td>0.491071</td>\n",
       "    </tr>\n",
       "    <tr>\n",
       "      <th>6</th>\n",
       "      <td>0.672414</td>\n",
       "      <td>0.327586</td>\n",
       "    </tr>\n",
       "    <tr>\n",
       "      <th>7</th>\n",
       "      <td>0.550000</td>\n",
       "      <td>0.450000</td>\n",
       "    </tr>\n",
       "    <tr>\n",
       "      <th>8</th>\n",
       "      <td>0.507576</td>\n",
       "      <td>0.492424</td>\n",
       "    </tr>\n",
       "    <tr>\n",
       "      <th>9</th>\n",
       "      <td>0.500000</td>\n",
       "      <td>0.500000</td>\n",
       "    </tr>\n",
       "    <tr>\n",
       "      <th>10</th>\n",
       "      <td>0.583333</td>\n",
       "      <td>0.416667</td>\n",
       "    </tr>\n",
       "    <tr>\n",
       "      <th>11</th>\n",
       "      <td>1.000000</td>\n",
       "      <td>0.000000</td>\n",
       "    </tr>\n",
       "    <tr>\n",
       "      <th>12</th>\n",
       "      <td>0.000000</td>\n",
       "      <td>1.000000</td>\n",
       "    </tr>\n",
       "    <tr>\n",
       "      <th rowspan=\"11\" valign=\"top\">sales</th>\n",
       "      <th>1</th>\n",
       "      <td>0.560953</td>\n",
       "      <td>0.439047</td>\n",
       "    </tr>\n",
       "    <tr>\n",
       "      <th>2</th>\n",
       "      <td>0.572835</td>\n",
       "      <td>0.427165</td>\n",
       "    </tr>\n",
       "    <tr>\n",
       "      <th>3</th>\n",
       "      <td>0.565460</td>\n",
       "      <td>0.434540</td>\n",
       "    </tr>\n",
       "    <tr>\n",
       "      <th>4</th>\n",
       "      <td>0.595238</td>\n",
       "      <td>0.404762</td>\n",
       "    </tr>\n",
       "    <tr>\n",
       "      <th>5</th>\n",
       "      <td>0.582677</td>\n",
       "      <td>0.417323</td>\n",
       "    </tr>\n",
       "    <tr>\n",
       "      <th>6</th>\n",
       "      <td>0.527950</td>\n",
       "      <td>0.472050</td>\n",
       "    </tr>\n",
       "    <tr>\n",
       "      <th>7</th>\n",
       "      <td>0.592593</td>\n",
       "      <td>0.407407</td>\n",
       "    </tr>\n",
       "    <tr>\n",
       "      <th>8</th>\n",
       "      <td>0.617647</td>\n",
       "      <td>0.382353</td>\n",
       "    </tr>\n",
       "    <tr>\n",
       "      <th>9</th>\n",
       "      <td>0.557522</td>\n",
       "      <td>0.442478</td>\n",
       "    </tr>\n",
       "    <tr>\n",
       "      <th>10</th>\n",
       "      <td>0.581818</td>\n",
       "      <td>0.418182</td>\n",
       "    </tr>\n",
       "    <tr>\n",
       "      <th>12</th>\n",
       "      <td>1.000000</td>\n",
       "      <td>0.000000</td>\n",
       "    </tr>\n",
       "  </tbody>\n",
       "</table>\n",
       "<p>70 rows × 2 columns</p>\n",
       "</div>"
      ],
      "text/plain": [
       "retained                            0         1\n",
       "dept             company_id                    \n",
       "customer_service 1           0.572387  0.427613\n",
       "                 2           0.541176  0.458824\n",
       "                 3           0.538000  0.462000\n",
       "                 4           0.535761  0.464239\n",
       "                 5           0.559429  0.440571\n",
       "                 6           0.519192  0.480808\n",
       "                 7           0.570815  0.429185\n",
       "                 8           0.563492  0.436508\n",
       "                 9           0.545455  0.454545\n",
       "                 10          0.567568  0.432432\n",
       "                 11          0.500000  0.500000\n",
       "                 12          0.636364  0.363636\n",
       "data_science     1           0.525234  0.474766\n",
       "                 2           0.471530  0.528470\n",
       "                 3           0.559420  0.440580\n",
       "                 4           0.574007  0.425993\n",
       "                 5           0.530516  0.469484\n",
       "                 6           0.556291  0.443709\n",
       "                 7           0.563758  0.436242\n",
       "                 8           0.545455  0.454545\n",
       "                 9           0.526316  0.473684\n",
       "                 10          0.472222  0.527778\n",
       "                 11          1.000000  0.000000\n",
       "                 12          0.500000  0.500000\n",
       "design           1           0.539715  0.460285\n",
       "                 2           0.565022  0.434978\n",
       "                 3           0.574468  0.425532\n",
       "                 4           0.566038  0.433962\n",
       "                 5           0.654206  0.345794\n",
       "                 6           0.584416  0.415584\n",
       "...                               ...       ...\n",
       "engineer         6           0.527523  0.472477\n",
       "                 7           0.551570  0.448430\n",
       "                 8           0.536842  0.463158\n",
       "                 9           0.562162  0.437838\n",
       "                 10          0.547059  0.452941\n",
       "                 11          0.833333  0.166667\n",
       "                 12          0.250000  0.750000\n",
       "marketing        1           0.570764  0.429236\n",
       "                 2           0.543925  0.456075\n",
       "                 3           0.580381  0.419619\n",
       "                 4           0.581749  0.418251\n",
       "                 5           0.508929  0.491071\n",
       "                 6           0.672414  0.327586\n",
       "                 7           0.550000  0.450000\n",
       "                 8           0.507576  0.492424\n",
       "                 9           0.500000  0.500000\n",
       "                 10          0.583333  0.416667\n",
       "                 11          1.000000  0.000000\n",
       "                 12          0.000000  1.000000\n",
       "sales            1           0.560953  0.439047\n",
       "                 2           0.572835  0.427165\n",
       "                 3           0.565460  0.434540\n",
       "                 4           0.595238  0.404762\n",
       "                 5           0.582677  0.417323\n",
       "                 6           0.527950  0.472050\n",
       "                 7           0.592593  0.407407\n",
       "                 8           0.617647  0.382353\n",
       "                 9           0.557522  0.442478\n",
       "                 10          0.581818  0.418182\n",
       "                 12          1.000000  0.000000\n",
       "\n",
       "[70 rows x 2 columns]"
      ]
     },
     "execution_count": 223,
     "metadata": {},
     "output_type": "execute_result"
    }
   ],
   "source": [
    "# Retention problem by departments within companies?\n",
    "pd.crosstab([df.dept,df.company_id], df.retained, normalize='index')"
   ]
  },
  {
   "cell_type": "markdown",
   "metadata": {},
   "source": [
    "There are definitely some trends here - some companies seem to have serious retention problems, but most hover around a split of 45% retained and 55% churned over the 5 years from 2011 to 2015 that the dataset covers. \n",
    "\n",
    "I would use this to make guidelines to specific companies, but that would be missing the forest for the trees since the goal of this exercise is to identify overarching trends given the dataset. \n",
    "\n",
    "As a result, I'll turn to the bigger picture and look across the companies. "
   ]
  },
  {
   "cell_type": "code",
   "execution_count": 224,
   "metadata": {},
   "outputs": [
    {
     "data": {
      "text/html": [
       "<div>\n",
       "<style scoped>\n",
       "    .dataframe tbody tr th:only-of-type {\n",
       "        vertical-align: middle;\n",
       "    }\n",
       "\n",
       "    .dataframe tbody tr th {\n",
       "        vertical-align: top;\n",
       "    }\n",
       "\n",
       "    .dataframe thead th {\n",
       "        text-align: right;\n",
       "    }\n",
       "</style>\n",
       "<table border=\"1\" class=\"dataframe\">\n",
       "  <thead>\n",
       "    <tr style=\"text-align: right;\">\n",
       "      <th></th>\n",
       "      <th>employee_id</th>\n",
       "      <th>company_id</th>\n",
       "      <th>seniority</th>\n",
       "      <th>salary</th>\n",
       "    </tr>\n",
       "    <tr>\n",
       "      <th>retained</th>\n",
       "      <th></th>\n",
       "      <th></th>\n",
       "      <th></th>\n",
       "      <th></th>\n",
       "    </tr>\n",
       "  </thead>\n",
       "  <tbody>\n",
       "    <tr>\n",
       "      <th>0</th>\n",
       "      <td>502080.787695</td>\n",
       "      <td>3.456904</td>\n",
       "      <td>14.128056</td>\n",
       "      <td>135713.089631</td>\n",
       "    </tr>\n",
       "    <tr>\n",
       "      <th>1</th>\n",
       "      <td>501110.557380</td>\n",
       "      <td>3.388398</td>\n",
       "      <td>14.121797</td>\n",
       "      <td>141192.259112</td>\n",
       "    </tr>\n",
       "  </tbody>\n",
       "</table>\n",
       "</div>"
      ],
      "text/plain": [
       "            employee_id  company_id  seniority         salary\n",
       "retained                                                     \n",
       "0         502080.787695    3.456904  14.128056  135713.089631\n",
       "1         501110.557380    3.388398  14.121797  141192.259112"
      ]
     },
     "execution_count": 224,
     "metadata": {},
     "output_type": "execute_result"
    }
   ],
   "source": [
    "# Any trends between retained and churned based on continuous variables?\n",
    "df.groupby('retained').mean()"
   ]
  },
  {
   "cell_type": "markdown",
   "metadata": {},
   "source": [
    "From the above, it seems that salary may be playing a role - retained employees tend to have a higher salary. "
   ]
  },
  {
   "cell_type": "code",
   "execution_count": 225,
   "metadata": {},
   "outputs": [
    {
     "data": {
      "text/html": [
       "<div>\n",
       "<style scoped>\n",
       "    .dataframe tbody tr th:only-of-type {\n",
       "        vertical-align: middle;\n",
       "    }\n",
       "\n",
       "    .dataframe tbody tr th {\n",
       "        vertical-align: top;\n",
       "    }\n",
       "\n",
       "    .dataframe thead th {\n",
       "        text-align: right;\n",
       "    }\n",
       "</style>\n",
       "<table border=\"1\" class=\"dataframe\">\n",
       "  <thead>\n",
       "    <tr style=\"text-align: right;\">\n",
       "      <th></th>\n",
       "      <th></th>\n",
       "      <th>employee_id</th>\n",
       "      <th>company_id</th>\n",
       "      <th>seniority</th>\n",
       "      <th>salary</th>\n",
       "    </tr>\n",
       "    <tr>\n",
       "      <th>dept</th>\n",
       "      <th>retained</th>\n",
       "      <th></th>\n",
       "      <th></th>\n",
       "      <th></th>\n",
       "      <th></th>\n",
       "    </tr>\n",
       "  </thead>\n",
       "  <tbody>\n",
       "    <tr>\n",
       "      <th rowspan=\"2\" valign=\"top\">customer_service</th>\n",
       "      <th>0</th>\n",
       "      <td>496548.985326</td>\n",
       "      <td>3.423161</td>\n",
       "      <td>14.535792</td>\n",
       "      <td>84302.795955</td>\n",
       "    </tr>\n",
       "    <tr>\n",
       "      <th>1</th>\n",
       "      <td>500265.647553</td>\n",
       "      <td>3.462679</td>\n",
       "      <td>13.710084</td>\n",
       "      <td>79637.419674</td>\n",
       "    </tr>\n",
       "    <tr>\n",
       "      <th rowspan=\"2\" valign=\"top\">data_science</th>\n",
       "      <th>0</th>\n",
       "      <td>494633.325917</td>\n",
       "      <td>3.472038</td>\n",
       "      <td>13.511726</td>\n",
       "      <td>199623.571858</td>\n",
       "    </tr>\n",
       "    <tr>\n",
       "      <th>1</th>\n",
       "      <td>506152.930388</td>\n",
       "      <td>3.392236</td>\n",
       "      <td>14.951807</td>\n",
       "      <td>215282.463186</td>\n",
       "    </tr>\n",
       "    <tr>\n",
       "      <th rowspan=\"2\" valign=\"top\">design</th>\n",
       "      <th>0</th>\n",
       "      <td>508108.618182</td>\n",
       "      <td>3.444156</td>\n",
       "      <td>14.536364</td>\n",
       "      <td>139637.662338</td>\n",
       "    </tr>\n",
       "    <tr>\n",
       "      <th>1</th>\n",
       "      <td>490811.011725</td>\n",
       "      <td>3.316583</td>\n",
       "      <td>13.735343</td>\n",
       "      <td>134219.430486</td>\n",
       "    </tr>\n",
       "    <tr>\n",
       "      <th rowspan=\"2\" valign=\"top\">engineer</th>\n",
       "      <th>0</th>\n",
       "      <td>501196.941831</td>\n",
       "      <td>3.589820</td>\n",
       "      <td>13.650128</td>\n",
       "      <td>199013.259196</td>\n",
       "    </tr>\n",
       "    <tr>\n",
       "      <th>1</th>\n",
       "      <td>505406.098655</td>\n",
       "      <td>3.256502</td>\n",
       "      <td>14.700448</td>\n",
       "      <td>212388.340807</td>\n",
       "    </tr>\n",
       "    <tr>\n",
       "      <th rowspan=\"2\" valign=\"top\">marketing</th>\n",
       "      <th>0</th>\n",
       "      <td>512531.052125</td>\n",
       "      <td>3.361473</td>\n",
       "      <td>14.158640</td>\n",
       "      <td>136856.090652</td>\n",
       "    </tr>\n",
       "    <tr>\n",
       "      <th>1</th>\n",
       "      <td>488887.166789</td>\n",
       "      <td>3.419166</td>\n",
       "      <td>13.733723</td>\n",
       "      <td>133976.591075</td>\n",
       "    </tr>\n",
       "    <tr>\n",
       "      <th rowspan=\"2\" valign=\"top\">sales</th>\n",
       "      <th>0</th>\n",
       "      <td>512793.965517</td>\n",
       "      <td>3.463849</td>\n",
       "      <td>13.971079</td>\n",
       "      <td>135681.868743</td>\n",
       "    </tr>\n",
       "    <tr>\n",
       "      <th>1</th>\n",
       "      <td>507898.962222</td>\n",
       "      <td>3.380000</td>\n",
       "      <td>14.045185</td>\n",
       "      <td>136465.925926</td>\n",
       "    </tr>\n",
       "  </tbody>\n",
       "</table>\n",
       "</div>"
      ],
      "text/plain": [
       "                             employee_id  company_id  seniority         salary\n",
       "dept             retained                                                     \n",
       "customer_service 0         496548.985326    3.423161  14.535792   84302.795955\n",
       "                 1         500265.647553    3.462679  13.710084   79637.419674\n",
       "data_science     0         494633.325917    3.472038  13.511726  199623.571858\n",
       "                 1         506152.930388    3.392236  14.951807  215282.463186\n",
       "design           0         508108.618182    3.444156  14.536364  139637.662338\n",
       "                 1         490811.011725    3.316583  13.735343  134219.430486\n",
       "engineer         0         501196.941831    3.589820  13.650128  199013.259196\n",
       "                 1         505406.098655    3.256502  14.700448  212388.340807\n",
       "marketing        0         512531.052125    3.361473  14.158640  136856.090652\n",
       "                 1         488887.166789    3.419166  13.733723  133976.591075\n",
       "sales            0         512793.965517    3.463849  13.971079  135681.868743\n",
       "                 1         507898.962222    3.380000  14.045185  136465.925926"
      ]
     },
     "execution_count": 225,
     "metadata": {},
     "output_type": "execute_result"
    }
   ],
   "source": [
    "# Any noticable trends across departments?\n",
    "df.groupby(['dept', 'retained']).mean()"
   ]
  },
  {
   "cell_type": "markdown",
   "metadata": {},
   "source": [
    "It seems like higher salaries might work at keeping Data Scientists and Engineers around, but perhaps isn't working as a strategy to keep Customer Service, Design, and Marketing employees around as those with higher salaries tend to _not_ be retained. When plotting these trends out (see the grouped bar chart below), they don't seem overly sensitive, however, aside from the higher salaries for retained Engineers and Data Scientists. "
   ]
  },
  {
   "cell_type": "code",
   "execution_count": 226,
   "metadata": {},
   "outputs": [
    {
     "data": {
      "application/javascript": [
       "var spec = {\"config\": {\"view\": {\"width\": 400, \"height\": 300}}, \"data\": {\"name\": \"data-c06b4dbe9f119b62ddbe600ec83b08fa\"}, \"mark\": \"bar\", \"encoding\": {\"color\": {\"type\": \"nominal\", \"field\": \"dept\", \"scale\": {\"scheme\": \"dark2\"}}, \"row\": {\"type\": \"quantitative\", \"field\": \"retained\"}, \"x\": {\"type\": \"quantitative\", \"axis\": {\"title\": \"Average Salary by Department\"}, \"field\": \"salary\"}, \"y\": {\"type\": \"nominal\", \"field\": \"dept\"}}, \"$schema\": \"https://vega.github.io/schema/vega-lite/v2.6.0.json\", \"datasets\": {\"data-c06b4dbe9f119b62ddbe600ec83b08fa\": [{\"dept\": \"customer_service\", \"retained\": 0, \"employee_id\": 496548.9853261947, \"company_id\": 3.4231608169740233, \"seniority\": 14.535792187190165, \"salary\": 84302.79595478882}, {\"dept\": \"customer_service\", \"retained\": 1, \"employee_id\": 500265.6475531389, \"company_id\": 3.4626791893227877, \"seniority\": 13.710084033613445, \"salary\": 79637.41967375185}, {\"dept\": \"data_science\", \"retained\": 0, \"employee_id\": 494633.3259170174, \"company_id\": 3.4720384846662657, \"seniority\": 13.511725796752856, \"salary\": 199623.5718580878}, {\"dept\": \"data_science\", \"retained\": 1, \"employee_id\": 506152.93038821954, \"company_id\": 3.392235609103079, \"seniority\": 14.951807228915662, \"salary\": 215282.46318607766}, {\"dept\": \"design\", \"retained\": 0, \"employee_id\": 508108.61818181816, \"company_id\": 3.444155844155844, \"seniority\": 14.536363636363637, \"salary\": 139637.66233766233}, {\"dept\": \"design\", \"retained\": 1, \"employee_id\": 490811.0117252931, \"company_id\": 3.3165829145728645, \"seniority\": 13.73534338358459, \"salary\": 134219.43048576213}, {\"dept\": \"engineer\", \"retained\": 0, \"employee_id\": 501196.9418306245, \"company_id\": 3.589820359281437, \"seniority\": 13.650128314798973, \"salary\": 199013.25919589392}, {\"dept\": \"engineer\", \"retained\": 1, \"employee_id\": 505406.09865470853, \"company_id\": 3.2565022421524663, \"seniority\": 14.700448430493273, \"salary\": 212388.34080717489}, {\"dept\": \"marketing\", \"retained\": 0, \"employee_id\": 512531.0521246459, \"company_id\": 3.361473087818697, \"seniority\": 14.158640226628895, \"salary\": 136856.09065155807}, {\"dept\": \"marketing\", \"retained\": 1, \"employee_id\": 488887.16678858816, \"company_id\": 3.419166057059254, \"seniority\": 13.733723482077542, \"salary\": 133976.59107534747}, {\"dept\": \"sales\", \"retained\": 0, \"employee_id\": 512793.9655172414, \"company_id\": 3.4638487208008897, \"seniority\": 13.971078976640712, \"salary\": 135681.86874304782}, {\"dept\": \"sales\", \"retained\": 1, \"employee_id\": 507898.96222222224, \"company_id\": 3.38, \"seniority\": 14.045185185185185, \"salary\": 136465.92592592593}]}};\n",
       "var opt = {};\n",
       "var type = \"vega-lite\";\n",
       "var id = \"e210a402-0f01-45e9-b22d-c68ff3b24a92\";\n",
       "\n",
       "var output_area = this;\n",
       "\n",
       "require([\"nbextensions/jupyter-vega/index\"], function(vega) {\n",
       "  var target = document.createElement(\"div\");\n",
       "  target.id = id;\n",
       "  target.className = \"vega-embed\";\n",
       "\n",
       "  var style = document.createElement(\"style\");\n",
       "  style.textContent = [\n",
       "    \".vega-embed .error p {\",\n",
       "    \"  color: firebrick;\",\n",
       "    \"  font-size: 14px;\",\n",
       "    \"}\",\n",
       "  ].join(\"\\\\n\");\n",
       "\n",
       "  // element is a jQuery wrapped DOM element inside the output area\n",
       "  // see http://ipython.readthedocs.io/en/stable/api/generated/\\\n",
       "  // IPython.display.html#IPython.display.Javascript.__init__\n",
       "  element[0].appendChild(target);\n",
       "  element[0].appendChild(style);\n",
       "\n",
       "  vega.render(\"#\" + id, spec, type, opt, output_area);\n",
       "}, function (err) {\n",
       "  if (err.requireType !== \"scripterror\") {\n",
       "    throw(err);\n",
       "  }\n",
       "});\n"
      ],
      "text/plain": [
       "<vega.vegalite.VegaLite at 0x11a75eac8>"
      ]
     },
     "metadata": {
      "jupyter-vega": "#e210a402-0f01-45e9-b22d-c68ff3b24a92"
     },
     "output_type": "display_data"
    },
    {
     "data": {
      "text/plain": []
     },
     "execution_count": 226,
     "metadata": {},
     "output_type": "execute_result"
    },
    {
     "data": {
      "image/png": "[encoded data removed]"
     },
     "metadata": {
      "jupyter-vega": "#e210a402-0f01-45e9-b22d-c68ff3b24a92"
     },
     "output_type": "display_data"
    }
   ],
   "source": [
    "# Grouped bar chart of retention and salary by department\n",
    "source = df.groupby(['dept', 'retained']).mean().reset_index()\n",
    "\n",
    "alt.Chart(source).mark_bar().encode(\n",
    "    y='dept',\n",
    "    color=alt.Color('dept', scale=alt.Scale(scheme='dark2')),\n",
    "    x=alt.X('salary', axis=alt.Axis(title='Average Salary by Department')), \n",
    "    row='retained'\n",
    ")"
   ]
  },
  {
   "cell_type": "code",
   "execution_count": 227,
   "metadata": {},
   "outputs": [
    {
     "data": {
      "application/javascript": [
       "var spec = {\"config\": {\"view\": {\"width\": 400, \"height\": 300}}, \"data\": {\"name\": \"data-8492c0b3a4f79183e1718c6424e92584\"}, \"mark\": \"bar\", \"encoding\": {\"color\": {\"type\": \"nominal\", \"field\": \"dept\", \"scale\": {\"scheme\": \"dark2\"}}, \"row\": {\"type\": \"quantitative\", \"field\": \"retained\"}, \"x\": {\"type\": \"quantitative\", \"axis\": {\"title\": \"Number of Employees by Department\"}, \"field\": \"salary\"}, \"y\": {\"type\": \"nominal\", \"field\": \"dept\"}}, \"$schema\": \"https://vega.github.io/schema/vega-lite/v2.6.0.json\", \"datasets\": {\"data-8492c0b3a4f79183e1718c6424e92584\": [{\"dept\": \"customer_service\", \"retained\": 0, \"employee_id\": 5043, \"company_id\": 5043, \"seniority\": 5043, \"salary\": 5043, \"join_date\": 5043, \"quit_date\": 5043, \"tenure\": 5043}, {\"dept\": \"customer_service\", \"retained\": 1, \"employee_id\": 4046, \"company_id\": 4046, \"seniority\": 4046, \"salary\": 4046, \"join_date\": 4046, \"quit_date\": 0, \"tenure\": 0}, {\"dept\": \"data_science\", \"retained\": 0, \"employee_id\": 1663, \"company_id\": 1663, \"seniority\": 1663, \"salary\": 1663, \"join_date\": 1663, \"quit_date\": 1663, \"tenure\": 1663}, {\"dept\": \"data_science\", \"retained\": 1, \"employee_id\": 1494, \"company_id\": 1494, \"seniority\": 1494, \"salary\": 1494, \"join_date\": 1494, \"quit_date\": 0, \"tenure\": 0}, {\"dept\": \"design\", \"retained\": 0, \"employee_id\": 770, \"company_id\": 770, \"seniority\": 770, \"salary\": 770, \"join_date\": 770, \"quit_date\": 770, \"tenure\": 770}, {\"dept\": \"design\", \"retained\": 1, \"employee_id\": 597, \"company_id\": 597, \"seniority\": 597, \"salary\": 597, \"join_date\": 597, \"quit_date\": 0, \"tenure\": 0}, {\"dept\": \"engineer\", \"retained\": 0, \"employee_id\": 2338, \"company_id\": 2338, \"seniority\": 2338, \"salary\": 2338, \"join_date\": 2338, \"quit_date\": 2338, \"tenure\": 2338}, {\"dept\": \"engineer\", \"retained\": 1, \"employee_id\": 2230, \"company_id\": 2230, \"seniority\": 2230, \"salary\": 2230, \"join_date\": 2230, \"quit_date\": 0, \"tenure\": 0}, {\"dept\": \"marketing\", \"retained\": 0, \"employee_id\": 1765, \"company_id\": 1765, \"seniority\": 1765, \"salary\": 1765, \"join_date\": 1765, \"quit_date\": 1765, \"tenure\": 1765}, {\"dept\": \"marketing\", \"retained\": 1, \"employee_id\": 1367, \"company_id\": 1367, \"seniority\": 1367, \"salary\": 1367, \"join_date\": 1367, \"quit_date\": 0, \"tenure\": 0}, {\"dept\": \"sales\", \"retained\": 0, \"employee_id\": 1798, \"company_id\": 1798, \"seniority\": 1798, \"salary\": 1798, \"join_date\": 1798, \"quit_date\": 1798, \"tenure\": 1798}, {\"dept\": \"sales\", \"retained\": 1, \"employee_id\": 1350, \"company_id\": 1350, \"seniority\": 1350, \"salary\": 1350, \"join_date\": 1350, \"quit_date\": 0, \"tenure\": 0}]}};\n",
       "var opt = {};\n",
       "var type = \"vega-lite\";\n",
       "var id = \"6c04cfa2-aa23-4d20-aa6e-d3fc70fa8beb\";\n",
       "\n",
       "var output_area = this;\n",
       "\n",
       "require([\"nbextensions/jupyter-vega/index\"], function(vega) {\n",
       "  var target = document.createElement(\"div\");\n",
       "  target.id = id;\n",
       "  target.className = \"vega-embed\";\n",
       "\n",
       "  var style = document.createElement(\"style\");\n",
       "  style.textContent = [\n",
       "    \".vega-embed .error p {\",\n",
       "    \"  color: firebrick;\",\n",
       "    \"  font-size: 14px;\",\n",
       "    \"}\",\n",
       "  ].join(\"\\\\n\");\n",
       "\n",
       "  // element is a jQuery wrapped DOM element inside the output area\n",
       "  // see http://ipython.readthedocs.io/en/stable/api/generated/\\\n",
       "  // IPython.display.html#IPython.display.Javascript.__init__\n",
       "  element[0].appendChild(target);\n",
       "  element[0].appendChild(style);\n",
       "\n",
       "  vega.render(\"#\" + id, spec, type, opt, output_area);\n",
       "}, function (err) {\n",
       "  if (err.requireType !== \"scripterror\") {\n",
       "    throw(err);\n",
       "  }\n",
       "});\n"
      ],
      "text/plain": [
       "<vega.vegalite.VegaLite at 0x11a75ea90>"
      ]
     },
     "metadata": {
      "jupyter-vega": "#6c04cfa2-aa23-4d20-aa6e-d3fc70fa8beb"
     },
     "output_type": "display_data"
    },
    {
     "data": {
      "text/plain": []
     },
     "execution_count": 227,
     "metadata": {},
     "output_type": "execute_result"
    },
    {
     "data": {
      "image/png": "[encoded data removed]"
     },
     "metadata": {
      "jupyter-vega": "#6c04cfa2-aa23-4d20-aa6e-d3fc70fa8beb"
     },
     "output_type": "display_data"
    }
   ],
   "source": [
    "# Grouped bar chart of retention and number of employees by department\n",
    "source = df.groupby(['dept', 'retained']).count().reset_index()\n",
    "\n",
    "alt.Chart(source).mark_bar().encode(\n",
    "    y='dept',\n",
    "    color=alt.Color('dept', scale=alt.Scale(scheme='dark2')),\n",
    "    x=alt.X('salary', axis=alt.Axis(title='Number of Employees by Department')), \n",
    "    row='retained'\n",
    ")"
   ]
  },
  {
   "cell_type": "markdown",
   "metadata": {},
   "source": [
    "Looking at the graph above, there is an obvious issue with the number of Customer Service employees who are retained. My intuition suggests that Customer Service must be a stressful job that doesn't tend to pay as well and as a result more individuals in that position are likely to move on to different roles in comparision to the other roles that _tend_ to be more career-oriented. "
   ]
  },
  {
   "cell_type": "code",
   "execution_count": 228,
   "metadata": {},
   "outputs": [
    {
     "data": {
      "application/javascript": [
       "var spec = {\"config\": {\"view\": {\"width\": 400, \"height\": 300}}, \"data\": {\"name\": \"data-962fe49de55c91951900b88daeccb4a2\"}, \"mark\": \"bar\", \"encoding\": {\"color\": {\"type\": \"nominal\", \"field\": \"company_id\"}, \"row\": {\"type\": \"quantitative\", \"field\": \"retained\"}, \"x\": {\"type\": \"quantitative\", \"axis\": {\"title\": \"Number of Employees by Department and Company\"}, \"field\": \"employee_id\"}, \"y\": {\"type\": \"nominal\", \"field\": \"dept\"}}, \"$schema\": \"https://vega.github.io/schema/vega-lite/v2.6.0.json\", \"datasets\": {\"data-962fe49de55c91951900b88daeccb4a2\": [{\"dept\": \"customer_service\", \"company_id\": 1, \"retained\": 0, \"employee_id\": 1791, \"seniority\": 1791, \"salary\": 1791, \"join_date\": 1791, \"quit_date\": 1791, \"tenure\": 1791}, {\"dept\": \"customer_service\", \"company_id\": 1, \"retained\": 1, \"employee_id\": 1338, \"seniority\": 1338, \"salary\": 1338, \"join_date\": 1338, \"quit_date\": 0, \"tenure\": 0}, {\"dept\": \"customer_service\", \"company_id\": 2, \"retained\": 0, \"employee_id\": 828, \"seniority\": 828, \"salary\": 828, \"join_date\": 828, \"quit_date\": 828, \"tenure\": 828}, {\"dept\": \"customer_service\", \"company_id\": 2, \"retained\": 1, \"employee_id\": 702, \"seniority\": 702, \"salary\": 702, \"join_date\": 702, \"quit_date\": 0, \"tenure\": 0}, {\"dept\": \"customer_service\", \"company_id\": 3, \"retained\": 0, \"employee_id\": 538, \"seniority\": 538, \"salary\": 538, \"join_date\": 538, \"quit_date\": 538, \"tenure\": 538}, {\"dept\": \"customer_service\", \"company_id\": 3, \"retained\": 1, \"employee_id\": 462, \"seniority\": 462, \"salary\": 462, \"join_date\": 462, \"quit_date\": 0, \"tenure\": 0}, {\"dept\": \"customer_service\", \"company_id\": 4, \"retained\": 0, \"employee_id\": 412, \"seniority\": 412, \"salary\": 412, \"join_date\": 412, \"quit_date\": 412, \"tenure\": 412}, {\"dept\": \"customer_service\", \"company_id\": 4, \"retained\": 1, \"employee_id\": 357, \"seniority\": 357, \"salary\": 357, \"join_date\": 357, \"quit_date\": 0, \"tenure\": 0}, {\"dept\": \"customer_service\", \"company_id\": 5, \"retained\": 0, \"employee_id\": 353, \"seniority\": 353, \"salary\": 353, \"join_date\": 353, \"quit_date\": 353, \"tenure\": 353}, {\"dept\": \"customer_service\", \"company_id\": 5, \"retained\": 1, \"employee_id\": 278, \"seniority\": 278, \"salary\": 278, \"join_date\": 278, \"quit_date\": 0, \"tenure\": 0}, {\"dept\": \"customer_service\", \"company_id\": 6, \"retained\": 0, \"employee_id\": 257, \"seniority\": 257, \"salary\": 257, \"join_date\": 257, \"quit_date\": 257, \"tenure\": 257}, {\"dept\": \"customer_service\", \"company_id\": 6, \"retained\": 1, \"employee_id\": 238, \"seniority\": 238, \"salary\": 238, \"join_date\": 238, \"quit_date\": 0, \"tenure\": 0}, {\"dept\": \"customer_service\", \"company_id\": 7, \"retained\": 0, \"employee_id\": 266, \"seniority\": 266, \"salary\": 266, \"join_date\": 266, \"quit_date\": 266, \"tenure\": 266}, {\"dept\": \"customer_service\", \"company_id\": 7, \"retained\": 1, \"employee_id\": 200, \"seniority\": 200, \"salary\": 200, \"join_date\": 200, \"quit_date\": 0, \"tenure\": 0}, {\"dept\": \"customer_service\", \"company_id\": 8, \"retained\": 0, \"employee_id\": 213, \"seniority\": 213, \"salary\": 213, \"join_date\": 213, \"quit_date\": 213, \"tenure\": 213}, {\"dept\": \"customer_service\", \"company_id\": 8, \"retained\": 1, \"employee_id\": 165, \"seniority\": 165, \"salary\": 165, \"join_date\": 165, \"quit_date\": 0, \"tenure\": 0}, {\"dept\": \"customer_service\", \"company_id\": 9, \"retained\": 0, \"employee_id\": 186, \"seniority\": 186, \"salary\": 186, \"join_date\": 186, \"quit_date\": 186, \"tenure\": 186}, {\"dept\": \"customer_service\", \"company_id\": 9, \"retained\": 1, \"employee_id\": 155, \"seniority\": 155, \"salary\": 155, \"join_date\": 155, \"quit_date\": 0, \"tenure\": 0}, {\"dept\": \"customer_service\", \"company_id\": 10, \"retained\": 0, \"employee_id\": 189, \"seniority\": 189, \"salary\": 189, \"join_date\": 189, \"quit_date\": 189, \"tenure\": 189}, {\"dept\": \"customer_service\", \"company_id\": 10, \"retained\": 1, \"employee_id\": 144, \"seniority\": 144, \"salary\": 144, \"join_date\": 144, \"quit_date\": 0, \"tenure\": 0}, {\"dept\": \"customer_service\", \"company_id\": 11, \"retained\": 0, \"employee_id\": 3, \"seniority\": 3, \"salary\": 3, \"join_date\": 3, \"quit_date\": 3, \"tenure\": 3}, {\"dept\": \"customer_service\", \"company_id\": 11, \"retained\": 1, \"employee_id\": 3, \"seniority\": 3, \"salary\": 3, \"join_date\": 3, \"quit_date\": 0, \"tenure\": 0}, {\"dept\": \"customer_service\", \"company_id\": 12, \"retained\": 0, \"employee_id\": 7, \"seniority\": 7, \"salary\": 7, \"join_date\": 7, \"quit_date\": 7, \"tenure\": 7}, {\"dept\": \"customer_service\", \"company_id\": 12, \"retained\": 1, \"employee_id\": 4, \"seniority\": 4, \"salary\": 4, \"join_date\": 4, \"quit_date\": 0, \"tenure\": 0}, {\"dept\": \"data_science\", \"company_id\": 1, \"retained\": 0, \"employee_id\": 562, \"seniority\": 562, \"salary\": 562, \"join_date\": 562, \"quit_date\": 562, \"tenure\": 562}, {\"dept\": \"data_science\", \"company_id\": 1, \"retained\": 1, \"employee_id\": 508, \"seniority\": 508, \"salary\": 508, \"join_date\": 508, \"quit_date\": 0, \"tenure\": 0}, {\"dept\": \"data_science\", \"company_id\": 2, \"retained\": 0, \"employee_id\": 265, \"seniority\": 265, \"salary\": 265, \"join_date\": 265, \"quit_date\": 265, \"tenure\": 265}, {\"dept\": \"data_science\", \"company_id\": 2, \"retained\": 1, \"employee_id\": 297, \"seniority\": 297, \"salary\": 297, \"join_date\": 297, \"quit_date\": 0, \"tenure\": 0}, {\"dept\": \"data_science\", \"company_id\": 3, \"retained\": 0, \"employee_id\": 193, \"seniority\": 193, \"salary\": 193, \"join_date\": 193, \"quit_date\": 193, \"tenure\": 193}, {\"dept\": \"data_science\", \"company_id\": 3, \"retained\": 1, \"employee_id\": 152, \"seniority\": 152, \"salary\": 152, \"join_date\": 152, \"quit_date\": 0, \"tenure\": 0}, {\"dept\": \"data_science\", \"company_id\": 4, \"retained\": 0, \"employee_id\": 159, \"seniority\": 159, \"salary\": 159, \"join_date\": 159, \"quit_date\": 159, \"tenure\": 159}, {\"dept\": \"data_science\", \"company_id\": 4, \"retained\": 1, \"employee_id\": 118, \"seniority\": 118, \"salary\": 118, \"join_date\": 118, \"quit_date\": 0, \"tenure\": 0}, {\"dept\": \"data_science\", \"company_id\": 5, \"retained\": 0, \"employee_id\": 113, \"seniority\": 113, \"salary\": 113, \"join_date\": 113, \"quit_date\": 113, \"tenure\": 113}, {\"dept\": \"data_science\", \"company_id\": 5, \"retained\": 1, \"employee_id\": 100, \"seniority\": 100, \"salary\": 100, \"join_date\": 100, \"quit_date\": 0, \"tenure\": 0}, {\"dept\": \"data_science\", \"company_id\": 6, \"retained\": 0, \"employee_id\": 84, \"seniority\": 84, \"salary\": 84, \"join_date\": 84, \"quit_date\": 84, \"tenure\": 84}, {\"dept\": \"data_science\", \"company_id\": 6, \"retained\": 1, \"employee_id\": 67, \"seniority\": 67, \"salary\": 67, \"join_date\": 67, \"quit_date\": 0, \"tenure\": 0}, {\"dept\": \"data_science\", \"company_id\": 7, \"retained\": 0, \"employee_id\": 84, \"seniority\": 84, \"salary\": 84, \"join_date\": 84, \"quit_date\": 84, \"tenure\": 84}, {\"dept\": \"data_science\", \"company_id\": 7, \"retained\": 1, \"employee_id\": 65, \"seniority\": 65, \"salary\": 65, \"join_date\": 65, \"quit_date\": 0, \"tenure\": 0}, {\"dept\": \"data_science\", \"company_id\": 8, \"retained\": 0, \"employee_id\": 78, \"seniority\": 78, \"salary\": 78, \"join_date\": 78, \"quit_date\": 78, \"tenure\": 78}, {\"dept\": \"data_science\", \"company_id\": 8, \"retained\": 1, \"employee_id\": 65, \"seniority\": 65, \"salary\": 65, \"join_date\": 65, \"quit_date\": 0, \"tenure\": 0}, {\"dept\": \"data_science\", \"company_id\": 9, \"retained\": 0, \"employee_id\": 70, \"seniority\": 70, \"salary\": 70, \"join_date\": 70, \"quit_date\": 70, \"tenure\": 70}, {\"dept\": \"data_science\", \"company_id\": 9, \"retained\": 1, \"employee_id\": 63, \"seniority\": 63, \"salary\": 63, \"join_date\": 63, \"quit_date\": 0, \"tenure\": 0}, {\"dept\": \"data_science\", \"company_id\": 10, \"retained\": 0, \"employee_id\": 51, \"seniority\": 51, \"salary\": 51, \"join_date\": 51, \"quit_date\": 51, \"tenure\": 51}, {\"dept\": \"data_science\", \"company_id\": 10, \"retained\": 1, \"employee_id\": 57, \"seniority\": 57, \"salary\": 57, \"join_date\": 57, \"quit_date\": 0, \"tenure\": 0}, {\"dept\": \"data_science\", \"company_id\": 11, \"retained\": 0, \"employee_id\": 2, \"seniority\": 2, \"salary\": 2, \"join_date\": 2, \"quit_date\": 2, \"tenure\": 2}, {\"dept\": \"data_science\", \"company_id\": 12, \"retained\": 0, \"employee_id\": 2, \"seniority\": 2, \"salary\": 2, \"join_date\": 2, \"quit_date\": 2, \"tenure\": 2}, {\"dept\": \"data_science\", \"company_id\": 12, \"retained\": 1, \"employee_id\": 2, \"seniority\": 2, \"salary\": 2, \"join_date\": 2, \"quit_date\": 0, \"tenure\": 0}, {\"dept\": \"design\", \"company_id\": 1, \"retained\": 0, \"employee_id\": 265, \"seniority\": 265, \"salary\": 265, \"join_date\": 265, \"quit_date\": 265, \"tenure\": 265}, {\"dept\": \"design\", \"company_id\": 1, \"retained\": 1, \"employee_id\": 226, \"seniority\": 226, \"salary\": 226, \"join_date\": 226, \"quit_date\": 0, \"tenure\": 0}, {\"dept\": \"design\", \"company_id\": 2, \"retained\": 0, \"employee_id\": 126, \"seniority\": 126, \"salary\": 126, \"join_date\": 126, \"quit_date\": 126, \"tenure\": 126}, {\"dept\": \"design\", \"company_id\": 2, \"retained\": 1, \"employee_id\": 97, \"seniority\": 97, \"salary\": 97, \"join_date\": 97, \"quit_date\": 0, \"tenure\": 0}, {\"dept\": \"design\", \"company_id\": 3, \"retained\": 0, \"employee_id\": 81, \"seniority\": 81, \"salary\": 81, \"join_date\": 81, \"quit_date\": 81, \"tenure\": 81}, {\"dept\": \"design\", \"company_id\": 3, \"retained\": 1, \"employee_id\": 60, \"seniority\": 60, \"salary\": 60, \"join_date\": 60, \"quit_date\": 0, \"tenure\": 0}, {\"dept\": \"design\", \"company_id\": 4, \"retained\": 0, \"employee_id\": 60, \"seniority\": 60, \"salary\": 60, \"join_date\": 60, \"quit_date\": 60, \"tenure\": 60}, {\"dept\": \"design\", \"company_id\": 4, \"retained\": 1, \"employee_id\": 46, \"seniority\": 46, \"salary\": 46, \"join_date\": 46, \"quit_date\": 0, \"tenure\": 0}, {\"dept\": \"design\", \"company_id\": 5, \"retained\": 0, \"employee_id\": 70, \"seniority\": 70, \"salary\": 70, \"join_date\": 70, \"quit_date\": 70, \"tenure\": 70}, {\"dept\": \"design\", \"company_id\": 5, \"retained\": 1, \"employee_id\": 37, \"seniority\": 37, \"salary\": 37, \"join_date\": 37, \"quit_date\": 0, \"tenure\": 0}, {\"dept\": \"design\", \"company_id\": 6, \"retained\": 0, \"employee_id\": 45, \"seniority\": 45, \"salary\": 45, \"join_date\": 45, \"quit_date\": 45, \"tenure\": 45}, {\"dept\": \"design\", \"company_id\": 6, \"retained\": 1, \"employee_id\": 32, \"seniority\": 32, \"salary\": 32, \"join_date\": 32, \"quit_date\": 0, \"tenure\": 0}, {\"dept\": \"design\", \"company_id\": 7, \"retained\": 0, \"employee_id\": 37, \"seniority\": 37, \"salary\": 37, \"join_date\": 37, \"quit_date\": 37, \"tenure\": 37}, {\"dept\": \"design\", \"company_id\": 7, \"retained\": 1, \"employee_id\": 32, \"seniority\": 32, \"salary\": 32, \"join_date\": 32, \"quit_date\": 0, \"tenure\": 0}, {\"dept\": \"design\", \"company_id\": 8, \"retained\": 0, \"employee_id\": 24, \"seniority\": 24, \"salary\": 24, \"join_date\": 24, \"quit_date\": 24, \"tenure\": 24}, {\"dept\": \"design\", \"company_id\": 8, \"retained\": 1, \"employee_id\": 29, \"seniority\": 29, \"salary\": 29, \"join_date\": 29, \"quit_date\": 0, \"tenure\": 0}, {\"dept\": \"design\", \"company_id\": 9, \"retained\": 0, \"employee_id\": 39, \"seniority\": 39, \"salary\": 39, \"join_date\": 39, \"quit_date\": 39, \"tenure\": 39}, {\"dept\": \"design\", \"company_id\": 9, \"retained\": 1, \"employee_id\": 19, \"seniority\": 19, \"salary\": 19, \"join_date\": 19, \"quit_date\": 0, \"tenure\": 0}, {\"dept\": \"design\", \"company_id\": 10, \"retained\": 0, \"employee_id\": 23, \"seniority\": 23, \"salary\": 23, \"join_date\": 23, \"quit_date\": 23, \"tenure\": 23}, {\"dept\": \"design\", \"company_id\": 10, \"retained\": 1, \"employee_id\": 18, \"seniority\": 18, \"salary\": 18, \"join_date\": 18, \"quit_date\": 0, \"tenure\": 0}, {\"dept\": \"design\", \"company_id\": 12, \"retained\": 1, \"employee_id\": 1, \"seniority\": 1, \"salary\": 1, \"join_date\": 1, \"quit_date\": 0, \"tenure\": 0}, {\"dept\": \"engineer\", \"company_id\": 1, \"retained\": 0, \"employee_id\": 738, \"seniority\": 738, \"salary\": 738, \"join_date\": 738, \"quit_date\": 738, \"tenure\": 738}, {\"dept\": \"engineer\", \"company_id\": 1, \"retained\": 1, \"employee_id\": 814, \"seniority\": 814, \"salary\": 814, \"join_date\": 814, \"quit_date\": 0, \"tenure\": 0}, {\"dept\": \"engineer\", \"company_id\": 2, \"retained\": 0, \"employee_id\": 380, \"seniority\": 380, \"salary\": 380, \"join_date\": 380, \"quit_date\": 380, \"tenure\": 380}, {\"dept\": \"engineer\", \"company_id\": 2, \"retained\": 1, \"employee_id\": 442, \"seniority\": 442, \"salary\": 442, \"join_date\": 442, \"quit_date\": 0, \"tenure\": 0}, {\"dept\": \"engineer\", \"company_id\": 3, \"retained\": 0, \"employee_id\": 291, \"seniority\": 291, \"salary\": 291, \"join_date\": 291, \"quit_date\": 291, \"tenure\": 291}, {\"dept\": \"engineer\", \"company_id\": 3, \"retained\": 1, \"employee_id\": 221, \"seniority\": 221, \"salary\": 221, \"join_date\": 221, \"quit_date\": 0, \"tenure\": 0}, {\"dept\": \"engineer\", \"company_id\": 4, \"retained\": 0, \"employee_id\": 208, \"seniority\": 208, \"salary\": 208, \"join_date\": 208, \"quit_date\": 208, \"tenure\": 208}, {\"dept\": \"engineer\", \"company_id\": 4, \"retained\": 1, \"employee_id\": 167, \"seniority\": 167, \"salary\": 167, \"join_date\": 167, \"quit_date\": 0, \"tenure\": 0}, {\"dept\": \"engineer\", \"company_id\": 5, \"retained\": 0, \"employee_id\": 178, \"seniority\": 178, \"salary\": 178, \"join_date\": 178, \"quit_date\": 178, \"tenure\": 178}, {\"dept\": \"engineer\", \"company_id\": 5, \"retained\": 1, \"employee_id\": 133, \"seniority\": 133, \"salary\": 133, \"join_date\": 133, \"quit_date\": 0, \"tenure\": 0}, {\"dept\": \"engineer\", \"company_id\": 6, \"retained\": 0, \"employee_id\": 115, \"seniority\": 115, \"salary\": 115, \"join_date\": 115, \"quit_date\": 115, \"tenure\": 115}, {\"dept\": \"engineer\", \"company_id\": 6, \"retained\": 1, \"employee_id\": 103, \"seniority\": 103, \"salary\": 103, \"join_date\": 103, \"quit_date\": 0, \"tenure\": 0}, {\"dept\": \"engineer\", \"company_id\": 7, \"retained\": 0, \"employee_id\": 123, \"seniority\": 123, \"salary\": 123, \"join_date\": 123, \"quit_date\": 123, \"tenure\": 123}, {\"dept\": \"engineer\", \"company_id\": 7, \"retained\": 1, \"employee_id\": 100, \"seniority\": 100, \"salary\": 100, \"join_date\": 100, \"quit_date\": 0, \"tenure\": 0}, {\"dept\": \"engineer\", \"company_id\": 8, \"retained\": 0, \"employee_id\": 102, \"seniority\": 102, \"salary\": 102, \"join_date\": 102, \"quit_date\": 102, \"tenure\": 102}, {\"dept\": \"engineer\", \"company_id\": 8, \"retained\": 1, \"employee_id\": 88, \"seniority\": 88, \"salary\": 88, \"join_date\": 88, \"quit_date\": 0, \"tenure\": 0}, {\"dept\": \"engineer\", \"company_id\": 9, \"retained\": 0, \"employee_id\": 104, \"seniority\": 104, \"salary\": 104, \"join_date\": 104, \"quit_date\": 104, \"tenure\": 104}, {\"dept\": \"engineer\", \"company_id\": 9, \"retained\": 1, \"employee_id\": 81, \"seniority\": 81, \"salary\": 81, \"join_date\": 81, \"quit_date\": 0, \"tenure\": 0}, {\"dept\": \"engineer\", \"company_id\": 10, \"retained\": 0, \"employee_id\": 93, \"seniority\": 93, \"salary\": 93, \"join_date\": 93, \"quit_date\": 93, \"tenure\": 93}, {\"dept\": \"engineer\", \"company_id\": 10, \"retained\": 1, \"employee_id\": 77, \"seniority\": 77, \"salary\": 77, \"join_date\": 77, \"quit_date\": 0, \"tenure\": 0}, {\"dept\": \"engineer\", \"company_id\": 11, \"retained\": 0, \"employee_id\": 5, \"seniority\": 5, \"salary\": 5, \"join_date\": 5, \"quit_date\": 5, \"tenure\": 5}, {\"dept\": \"engineer\", \"company_id\": 11, \"retained\": 1, \"employee_id\": 1, \"seniority\": 1, \"salary\": 1, \"join_date\": 1, \"quit_date\": 0, \"tenure\": 0}, {\"dept\": \"engineer\", \"company_id\": 12, \"retained\": 0, \"employee_id\": 1, \"seniority\": 1, \"salary\": 1, \"join_date\": 1, \"quit_date\": 1, \"tenure\": 1}, {\"dept\": \"engineer\", \"company_id\": 12, \"retained\": 1, \"employee_id\": 3, \"seniority\": 3, \"salary\": 3, \"join_date\": 3, \"quit_date\": 0, \"tenure\": 0}, {\"dept\": \"marketing\", \"company_id\": 1, \"retained\": 0, \"employee_id\": 613, \"seniority\": 613, \"salary\": 613, \"join_date\": 613, \"quit_date\": 613, \"tenure\": 613}, {\"dept\": \"marketing\", \"company_id\": 1, \"retained\": 1, \"employee_id\": 461, \"seniority\": 461, \"salary\": 461, \"join_date\": 461, \"quit_date\": 0, \"tenure\": 0}, {\"dept\": \"marketing\", \"company_id\": 2, \"retained\": 0, \"employee_id\": 291, \"seniority\": 291, \"salary\": 291, \"join_date\": 291, \"quit_date\": 291, \"tenure\": 291}, {\"dept\": \"marketing\", \"company_id\": 2, \"retained\": 1, \"employee_id\": 244, \"seniority\": 244, \"salary\": 244, \"join_date\": 244, \"quit_date\": 0, \"tenure\": 0}, {\"dept\": \"marketing\", \"company_id\": 3, \"retained\": 0, \"employee_id\": 213, \"seniority\": 213, \"salary\": 213, \"join_date\": 213, \"quit_date\": 213, \"tenure\": 213}, {\"dept\": \"marketing\", \"company_id\": 3, \"retained\": 1, \"employee_id\": 154, \"seniority\": 154, \"salary\": 154, \"join_date\": 154, \"quit_date\": 0, \"tenure\": 0}, {\"dept\": \"marketing\", \"company_id\": 4, \"retained\": 0, \"employee_id\": 153, \"seniority\": 153, \"salary\": 153, \"join_date\": 153, \"quit_date\": 153, \"tenure\": 153}, {\"dept\": \"marketing\", \"company_id\": 4, \"retained\": 1, \"employee_id\": 110, \"seniority\": 110, \"salary\": 110, \"join_date\": 110, \"quit_date\": 0, \"tenure\": 0}, {\"dept\": \"marketing\", \"company_id\": 5, \"retained\": 0, \"employee_id\": 114, \"seniority\": 114, \"salary\": 114, \"join_date\": 114, \"quit_date\": 114, \"tenure\": 114}, {\"dept\": \"marketing\", \"company_id\": 5, \"retained\": 1, \"employee_id\": 110, \"seniority\": 110, \"salary\": 110, \"join_date\": 110, \"quit_date\": 0, \"tenure\": 0}, {\"dept\": \"marketing\", \"company_id\": 6, \"retained\": 0, \"employee_id\": 117, \"seniority\": 117, \"salary\": 117, \"join_date\": 117, \"quit_date\": 117, \"tenure\": 117}, {\"dept\": \"marketing\", \"company_id\": 6, \"retained\": 1, \"employee_id\": 57, \"seniority\": 57, \"salary\": 57, \"join_date\": 57, \"quit_date\": 0, \"tenure\": 0}, {\"dept\": \"marketing\", \"company_id\": 7, \"retained\": 0, \"employee_id\": 77, \"seniority\": 77, \"salary\": 77, \"join_date\": 77, \"quit_date\": 77, \"tenure\": 77}, {\"dept\": \"marketing\", \"company_id\": 7, \"retained\": 1, \"employee_id\": 63, \"seniority\": 63, \"salary\": 63, \"join_date\": 63, \"quit_date\": 0, \"tenure\": 0}, {\"dept\": \"marketing\", \"company_id\": 8, \"retained\": 0, \"employee_id\": 67, \"seniority\": 67, \"salary\": 67, \"join_date\": 67, \"quit_date\": 67, \"tenure\": 67}, {\"dept\": \"marketing\", \"company_id\": 8, \"retained\": 1, \"employee_id\": 65, \"seniority\": 65, \"salary\": 65, \"join_date\": 65, \"quit_date\": 0, \"tenure\": 0}, {\"dept\": \"marketing\", \"company_id\": 9, \"retained\": 0, \"employee_id\": 62, \"seniority\": 62, \"salary\": 62, \"join_date\": 62, \"quit_date\": 62, \"tenure\": 62}, {\"dept\": \"marketing\", \"company_id\": 9, \"retained\": 1, \"employee_id\": 62, \"seniority\": 62, \"salary\": 62, \"join_date\": 62, \"quit_date\": 0, \"tenure\": 0}, {\"dept\": \"marketing\", \"company_id\": 10, \"retained\": 0, \"employee_id\": 56, \"seniority\": 56, \"salary\": 56, \"join_date\": 56, \"quit_date\": 56, \"tenure\": 56}, {\"dept\": \"marketing\", \"company_id\": 10, \"retained\": 1, \"employee_id\": 40, \"seniority\": 40, \"salary\": 40, \"join_date\": 40, \"quit_date\": 0, \"tenure\": 0}, {\"dept\": \"marketing\", \"company_id\": 11, \"retained\": 0, \"employee_id\": 2, \"seniority\": 2, \"salary\": 2, \"join_date\": 2, \"quit_date\": 2, \"tenure\": 2}, {\"dept\": \"marketing\", \"company_id\": 12, \"retained\": 1, \"employee_id\": 1, \"seniority\": 1, \"salary\": 1, \"join_date\": 1, \"quit_date\": 0, \"tenure\": 0}, {\"dept\": \"sales\", \"company_id\": 1, \"retained\": 0, \"employee_id\": 612, \"seniority\": 612, \"salary\": 612, \"join_date\": 612, \"quit_date\": 612, \"tenure\": 612}, {\"dept\": \"sales\", \"company_id\": 1, \"retained\": 1, \"employee_id\": 479, \"seniority\": 479, \"salary\": 479, \"join_date\": 479, \"quit_date\": 0, \"tenure\": 0}, {\"dept\": \"sales\", \"company_id\": 2, \"retained\": 0, \"employee_id\": 291, \"seniority\": 291, \"salary\": 291, \"join_date\": 291, \"quit_date\": 291, \"tenure\": 291}, {\"dept\": \"sales\", \"company_id\": 2, \"retained\": 1, \"employee_id\": 217, \"seniority\": 217, \"salary\": 217, \"join_date\": 217, \"quit_date\": 0, \"tenure\": 0}, {\"dept\": \"sales\", \"company_id\": 3, \"retained\": 0, \"employee_id\": 203, \"seniority\": 203, \"salary\": 203, \"join_date\": 203, \"quit_date\": 203, \"tenure\": 203}, {\"dept\": \"sales\", \"company_id\": 3, \"retained\": 1, \"employee_id\": 156, \"seniority\": 156, \"salary\": 156, \"join_date\": 156, \"quit_date\": 0, \"tenure\": 0}, {\"dept\": \"sales\", \"company_id\": 4, \"retained\": 0, \"employee_id\": 150, \"seniority\": 150, \"salary\": 150, \"join_date\": 150, \"quit_date\": 150, \"tenure\": 150}, {\"dept\": \"sales\", \"company_id\": 4, \"retained\": 1, \"employee_id\": 102, \"seniority\": 102, \"salary\": 102, \"join_date\": 102, \"quit_date\": 0, \"tenure\": 0}, {\"dept\": \"sales\", \"company_id\": 5, \"retained\": 0, \"employee_id\": 148, \"seniority\": 148, \"salary\": 148, \"join_date\": 148, \"quit_date\": 148, \"tenure\": 148}, {\"dept\": \"sales\", \"company_id\": 5, \"retained\": 1, \"employee_id\": 106, \"seniority\": 106, \"salary\": 106, \"join_date\": 106, \"quit_date\": 0, \"tenure\": 0}, {\"dept\": \"sales\", \"company_id\": 6, \"retained\": 0, \"employee_id\": 85, \"seniority\": 85, \"salary\": 85, \"join_date\": 85, \"quit_date\": 85, \"tenure\": 85}, {\"dept\": \"sales\", \"company_id\": 6, \"retained\": 1, \"employee_id\": 76, \"seniority\": 76, \"salary\": 76, \"join_date\": 76, \"quit_date\": 0, \"tenure\": 0}, {\"dept\": \"sales\", \"company_id\": 7, \"retained\": 0, \"employee_id\": 96, \"seniority\": 96, \"salary\": 96, \"join_date\": 96, \"quit_date\": 96, \"tenure\": 96}, {\"dept\": \"sales\", \"company_id\": 7, \"retained\": 1, \"employee_id\": 66, \"seniority\": 66, \"salary\": 66, \"join_date\": 66, \"quit_date\": 0, \"tenure\": 0}, {\"dept\": \"sales\", \"company_id\": 8, \"retained\": 0, \"employee_id\": 84, \"seniority\": 84, \"salary\": 84, \"join_date\": 84, \"quit_date\": 84, \"tenure\": 84}, {\"dept\": \"sales\", \"company_id\": 8, \"retained\": 1, \"employee_id\": 52, \"seniority\": 52, \"salary\": 52, \"join_date\": 52, \"quit_date\": 0, \"tenure\": 0}, {\"dept\": \"sales\", \"company_id\": 9, \"retained\": 0, \"employee_id\": 63, \"seniority\": 63, \"salary\": 63, \"join_date\": 63, \"quit_date\": 63, \"tenure\": 63}, {\"dept\": \"sales\", \"company_id\": 9, \"retained\": 1, \"employee_id\": 50, \"seniority\": 50, \"salary\": 50, \"join_date\": 50, \"quit_date\": 0, \"tenure\": 0}, {\"dept\": \"sales\", \"company_id\": 10, \"retained\": 0, \"employee_id\": 64, \"seniority\": 64, \"salary\": 64, \"join_date\": 64, \"quit_date\": 64, \"tenure\": 64}, {\"dept\": \"sales\", \"company_id\": 10, \"retained\": 1, \"employee_id\": 46, \"seniority\": 46, \"salary\": 46, \"join_date\": 46, \"quit_date\": 0, \"tenure\": 0}, {\"dept\": \"sales\", \"company_id\": 12, \"retained\": 0, \"employee_id\": 2, \"seniority\": 2, \"salary\": 2, \"join_date\": 2, \"quit_date\": 2, \"tenure\": 2}]}};\n",
       "var opt = {};\n",
       "var type = \"vega-lite\";\n",
       "var id = \"5f6bd625-3ebd-4ea4-b9f4-498c06b7b9b1\";\n",
       "\n",
       "var output_area = this;\n",
       "\n",
       "require([\"nbextensions/jupyter-vega/index\"], function(vega) {\n",
       "  var target = document.createElement(\"div\");\n",
       "  target.id = id;\n",
       "  target.className = \"vega-embed\";\n",
       "\n",
       "  var style = document.createElement(\"style\");\n",
       "  style.textContent = [\n",
       "    \".vega-embed .error p {\",\n",
       "    \"  color: firebrick;\",\n",
       "    \"  font-size: 14px;\",\n",
       "    \"}\",\n",
       "  ].join(\"\\\\n\");\n",
       "\n",
       "  // element is a jQuery wrapped DOM element inside the output area\n",
       "  // see http://ipython.readthedocs.io/en/stable/api/generated/\\\n",
       "  // IPython.display.html#IPython.display.Javascript.__init__\n",
       "  element[0].appendChild(target);\n",
       "  element[0].appendChild(style);\n",
       "\n",
       "  vega.render(\"#\" + id, spec, type, opt, output_area);\n",
       "}, function (err) {\n",
       "  if (err.requireType !== \"scripterror\") {\n",
       "    throw(err);\n",
       "  }\n",
       "});\n"
      ],
      "text/plain": [
       "<vega.vegalite.VegaLite at 0x11a763d68>"
      ]
     },
     "metadata": {
      "jupyter-vega": "#5f6bd625-3ebd-4ea4-b9f4-498c06b7b9b1"
     },
     "output_type": "display_data"
    },
    {
     "data": {
      "text/plain": []
     },
     "execution_count": 228,
     "metadata": {},
     "output_type": "execute_result"
    },
    {
     "data": {
      "image/png": "[encoded data removed]"
     },
     "metadata": {
      "jupyter-vega": "#5f6bd625-3ebd-4ea4-b9f4-498c06b7b9b1"
     },
     "output_type": "display_data"
    }
   ],
   "source": [
    "# Do any of the trends above relate to particular companies?\n",
    "source = df.groupby(['dept', 'company_id', 'retained']).count().reset_index()\n",
    "\n",
    "alt.Chart(source).mark_bar().encode(\n",
    "    y='dept',\n",
    "    color='company_id:N',\n",
    "    x=alt.X('employee_id', axis=alt.Axis(title='Number of Employees by Department and Company')), \n",
    "    row='retained'\n",
    ")"
   ]
  },
  {
   "cell_type": "code",
   "execution_count": 230,
   "metadata": {},
   "outputs": [
    {
     "data": {
      "application/javascript": [
       "var spec = {\"config\": {\"view\": {\"width\": 400, \"height\": 300}}, \"data\": {\"name\": \"data-0b178e612acc0b183797e1e905377973\"}, \"mark\": \"bar\", \"encoding\": {\"color\": {\"type\": \"nominal\", \"field\": \"seniority\"}, \"row\": {\"type\": \"quantitative\", \"field\": \"retained\"}, \"x\": {\"type\": \"nominal\", \"field\": \"seniority\"}, \"y\": {\"type\": \"quantitative\", \"axis\": {\"title\": \"Number of Employees\"}, \"field\": \"employee_id\"}}, \"$schema\": \"https://vega.github.io/schema/vega-lite/v2.6.0.json\", \"datasets\": {\"data-0b178e612acc0b183797e1e905377973\": [{\"seniority\": 1, \"retained\": 0, \"employee_id\": 427, \"company_id\": 427, \"dept\": 427, \"salary\": 427, \"join_date\": 427, \"quit_date\": 427, \"tenure\": 427}, {\"seniority\": 1, \"retained\": 1, \"employee_id\": 431, \"company_id\": 431, \"dept\": 431, \"salary\": 431, \"join_date\": 431, \"quit_date\": 0, \"tenure\": 0}, {\"seniority\": 2, \"retained\": 0, \"employee_id\": 494, \"company_id\": 494, \"dept\": 494, \"salary\": 494, \"join_date\": 494, \"quit_date\": 494, \"tenure\": 494}, {\"seniority\": 2, \"retained\": 1, \"employee_id\": 437, \"company_id\": 437, \"dept\": 437, \"salary\": 437, \"join_date\": 437, \"quit_date\": 0, \"tenure\": 0}, {\"seniority\": 3, \"retained\": 0, \"employee_id\": 440, \"company_id\": 440, \"dept\": 440, \"salary\": 440, \"join_date\": 440, \"quit_date\": 440, \"tenure\": 440}, {\"seniority\": 3, \"retained\": 1, \"employee_id\": 428, \"company_id\": 428, \"dept\": 428, \"salary\": 428, \"join_date\": 428, \"quit_date\": 0, \"tenure\": 0}, {\"seniority\": 4, \"retained\": 0, \"employee_id\": 416, \"company_id\": 416, \"dept\": 416, \"salary\": 416, \"join_date\": 416, \"quit_date\": 416, \"tenure\": 416}, {\"seniority\": 4, \"retained\": 1, \"employee_id\": 470, \"company_id\": 470, \"dept\": 470, \"salary\": 470, \"join_date\": 470, \"quit_date\": 0, \"tenure\": 0}, {\"seniority\": 5, \"retained\": 0, \"employee_id\": 526, \"company_id\": 526, \"dept\": 526, \"salary\": 526, \"join_date\": 526, \"quit_date\": 526, \"tenure\": 526}, {\"seniority\": 5, \"retained\": 1, \"employee_id\": 399, \"company_id\": 399, \"dept\": 399, \"salary\": 399, \"join_date\": 399, \"quit_date\": 0, \"tenure\": 0}, {\"seniority\": 6, \"retained\": 0, \"employee_id\": 566, \"company_id\": 566, \"dept\": 566, \"salary\": 566, \"join_date\": 566, \"quit_date\": 566, \"tenure\": 566}, {\"seniority\": 6, \"retained\": 1, \"employee_id\": 373, \"company_id\": 373, \"dept\": 373, \"salary\": 373, \"join_date\": 373, \"quit_date\": 0, \"tenure\": 0}, {\"seniority\": 7, \"retained\": 0, \"employee_id\": 506, \"company_id\": 506, \"dept\": 506, \"salary\": 506, \"join_date\": 506, \"quit_date\": 506, \"tenure\": 506}, {\"seniority\": 7, \"retained\": 1, \"employee_id\": 411, \"company_id\": 411, \"dept\": 411, \"salary\": 411, \"join_date\": 411, \"quit_date\": 0, \"tenure\": 0}, {\"seniority\": 8, \"retained\": 0, \"employee_id\": 578, \"company_id\": 578, \"dept\": 578, \"salary\": 578, \"join_date\": 578, \"quit_date\": 578, \"tenure\": 578}, {\"seniority\": 8, \"retained\": 1, \"employee_id\": 418, \"company_id\": 418, \"dept\": 418, \"salary\": 418, \"join_date\": 418, \"quit_date\": 0, \"tenure\": 0}, {\"seniority\": 9, \"retained\": 0, \"employee_id\": 517, \"company_id\": 517, \"dept\": 517, \"salary\": 517, \"join_date\": 517, \"quit_date\": 517, \"tenure\": 517}, {\"seniority\": 9, \"retained\": 1, \"employee_id\": 416, \"company_id\": 416, \"dept\": 416, \"salary\": 416, \"join_date\": 416, \"quit_date\": 0, \"tenure\": 0}, {\"seniority\": 10, \"retained\": 0, \"employee_id\": 517, \"company_id\": 517, \"dept\": 517, \"salary\": 517, \"join_date\": 517, \"quit_date\": 517, \"tenure\": 517}, {\"seniority\": 10, \"retained\": 1, \"employee_id\": 403, \"company_id\": 403, \"dept\": 403, \"salary\": 403, \"join_date\": 403, \"quit_date\": 0, \"tenure\": 0}, {\"seniority\": 11, \"retained\": 0, \"employee_id\": 509, \"company_id\": 509, \"dept\": 509, \"salary\": 509, \"join_date\": 509, \"quit_date\": 509, \"tenure\": 509}, {\"seniority\": 11, \"retained\": 1, \"employee_id\": 410, \"company_id\": 410, \"dept\": 410, \"salary\": 410, \"join_date\": 410, \"quit_date\": 0, \"tenure\": 0}, {\"seniority\": 12, \"retained\": 0, \"employee_id\": 576, \"company_id\": 576, \"dept\": 576, \"salary\": 576, \"join_date\": 576, \"quit_date\": 576, \"tenure\": 576}, {\"seniority\": 12, \"retained\": 1, \"employee_id\": 402, \"company_id\": 402, \"dept\": 402, \"salary\": 402, \"join_date\": 402, \"quit_date\": 0, \"tenure\": 0}, {\"seniority\": 13, \"retained\": 0, \"employee_id\": 496, \"company_id\": 496, \"dept\": 496, \"salary\": 496, \"join_date\": 496, \"quit_date\": 496, \"tenure\": 496}, {\"seniority\": 13, \"retained\": 1, \"employee_id\": 390, \"company_id\": 390, \"dept\": 390, \"salary\": 390, \"join_date\": 390, \"quit_date\": 0, \"tenure\": 0}, {\"seniority\": 14, \"retained\": 0, \"employee_id\": 504, \"company_id\": 504, \"dept\": 504, \"salary\": 504, \"join_date\": 504, \"quit_date\": 504, \"tenure\": 504}, {\"seniority\": 14, \"retained\": 1, \"employee_id\": 408, \"company_id\": 408, \"dept\": 408, \"salary\": 408, \"join_date\": 408, \"quit_date\": 0, \"tenure\": 0}, {\"seniority\": 15, \"retained\": 0, \"employee_id\": 503, \"company_id\": 503, \"dept\": 503, \"salary\": 503, \"join_date\": 503, \"quit_date\": 503, \"tenure\": 503}, {\"seniority\": 15, \"retained\": 1, \"employee_id\": 400, \"company_id\": 400, \"dept\": 400, \"salary\": 400, \"join_date\": 400, \"quit_date\": 0, \"tenure\": 0}, {\"seniority\": 16, \"retained\": 0, \"employee_id\": 531, \"company_id\": 531, \"dept\": 531, \"salary\": 531, \"join_date\": 531, \"quit_date\": 531, \"tenure\": 531}, {\"seniority\": 16, \"retained\": 1, \"employee_id\": 400, \"company_id\": 400, \"dept\": 400, \"salary\": 400, \"join_date\": 400, \"quit_date\": 0, \"tenure\": 0}, {\"seniority\": 17, \"retained\": 0, \"employee_id\": 472, \"company_id\": 472, \"dept\": 472, \"salary\": 472, \"join_date\": 472, \"quit_date\": 472, \"tenure\": 472}, {\"seniority\": 17, \"retained\": 1, \"employee_id\": 409, \"company_id\": 409, \"dept\": 409, \"salary\": 409, \"join_date\": 409, \"quit_date\": 0, \"tenure\": 0}, {\"seniority\": 18, \"retained\": 0, \"employee_id\": 449, \"company_id\": 449, \"dept\": 449, \"salary\": 449, \"join_date\": 449, \"quit_date\": 449, \"tenure\": 449}, {\"seniority\": 18, \"retained\": 1, \"employee_id\": 412, \"company_id\": 412, \"dept\": 412, \"salary\": 412, \"join_date\": 412, \"quit_date\": 0, \"tenure\": 0}, {\"seniority\": 19, \"retained\": 0, \"employee_id\": 496, \"company_id\": 496, \"dept\": 496, \"salary\": 496, \"join_date\": 496, \"quit_date\": 496, \"tenure\": 496}, {\"seniority\": 19, \"retained\": 1, \"employee_id\": 406, \"company_id\": 406, \"dept\": 406, \"salary\": 406, \"join_date\": 406, \"quit_date\": 0, \"tenure\": 0}, {\"seniority\": 20, \"retained\": 0, \"employee_id\": 466, \"company_id\": 466, \"dept\": 466, \"salary\": 466, \"join_date\": 466, \"quit_date\": 466, \"tenure\": 466}, {\"seniority\": 20, \"retained\": 1, \"employee_id\": 372, \"company_id\": 372, \"dept\": 372, \"salary\": 372, \"join_date\": 372, \"quit_date\": 0, \"tenure\": 0}, {\"seniority\": 21, \"retained\": 0, \"employee_id\": 446, \"company_id\": 446, \"dept\": 446, \"salary\": 446, \"join_date\": 446, \"quit_date\": 446, \"tenure\": 446}, {\"seniority\": 21, \"retained\": 1, \"employee_id\": 324, \"company_id\": 324, \"dept\": 324, \"salary\": 324, \"join_date\": 324, \"quit_date\": 0, \"tenure\": 0}, {\"seniority\": 22, \"retained\": 0, \"employee_id\": 401, \"company_id\": 401, \"dept\": 401, \"salary\": 401, \"join_date\": 401, \"quit_date\": 401, \"tenure\": 401}, {\"seniority\": 22, \"retained\": 1, \"employee_id\": 357, \"company_id\": 357, \"dept\": 357, \"salary\": 357, \"join_date\": 357, \"quit_date\": 0, \"tenure\": 0}, {\"seniority\": 23, \"retained\": 0, \"employee_id\": 429, \"company_id\": 429, \"dept\": 429, \"salary\": 429, \"join_date\": 429, \"quit_date\": 429, \"tenure\": 429}, {\"seniority\": 23, \"retained\": 1, \"employee_id\": 353, \"company_id\": 353, \"dept\": 353, \"salary\": 353, \"join_date\": 353, \"quit_date\": 0, \"tenure\": 0}, {\"seniority\": 24, \"retained\": 0, \"employee_id\": 395, \"company_id\": 395, \"dept\": 395, \"salary\": 395, \"join_date\": 395, \"quit_date\": 395, \"tenure\": 395}, {\"seniority\": 24, \"retained\": 1, \"employee_id\": 342, \"company_id\": 342, \"dept\": 342, \"salary\": 342, \"join_date\": 342, \"quit_date\": 0, \"tenure\": 0}, {\"seniority\": 25, \"retained\": 0, \"employee_id\": 400, \"company_id\": 400, \"dept\": 400, \"salary\": 400, \"join_date\": 400, \"quit_date\": 400, \"tenure\": 400}, {\"seniority\": 25, \"retained\": 1, \"employee_id\": 308, \"company_id\": 308, \"dept\": 308, \"salary\": 308, \"join_date\": 308, \"quit_date\": 0, \"tenure\": 0}, {\"seniority\": 26, \"retained\": 0, \"employee_id\": 355, \"company_id\": 355, \"dept\": 355, \"salary\": 355, \"join_date\": 355, \"quit_date\": 355, \"tenure\": 355}, {\"seniority\": 26, \"retained\": 1, \"employee_id\": 328, \"company_id\": 328, \"dept\": 328, \"salary\": 328, \"join_date\": 328, \"quit_date\": 0, \"tenure\": 0}, {\"seniority\": 27, \"retained\": 0, \"employee_id\": 337, \"company_id\": 337, \"dept\": 337, \"salary\": 337, \"join_date\": 337, \"quit_date\": 337, \"tenure\": 337}, {\"seniority\": 27, \"retained\": 1, \"employee_id\": 297, \"company_id\": 297, \"dept\": 297, \"salary\": 297, \"join_date\": 297, \"quit_date\": 0, \"tenure\": 0}, {\"seniority\": 28, \"retained\": 0, \"employee_id\": 318, \"company_id\": 318, \"dept\": 318, \"salary\": 318, \"join_date\": 318, \"quit_date\": 318, \"tenure\": 318}, {\"seniority\": 28, \"retained\": 1, \"employee_id\": 262, \"company_id\": 262, \"dept\": 262, \"salary\": 262, \"join_date\": 262, \"quit_date\": 0, \"tenure\": 0}, {\"seniority\": 29, \"retained\": 0, \"employee_id\": 307, \"company_id\": 307, \"dept\": 307, \"salary\": 307, \"join_date\": 307, \"quit_date\": 307, \"tenure\": 307}, {\"seniority\": 29, \"retained\": 1, \"employee_id\": 318, \"company_id\": 318, \"dept\": 318, \"salary\": 318, \"join_date\": 318, \"quit_date\": 0, \"tenure\": 0}]}};\n",
       "var opt = {};\n",
       "var type = \"vega-lite\";\n",
       "var id = \"4e3a1f15-7acb-48ee-9d44-c7e5c127cafa\";\n",
       "\n",
       "var output_area = this;\n",
       "\n",
       "require([\"nbextensions/jupyter-vega/index\"], function(vega) {\n",
       "  var target = document.createElement(\"div\");\n",
       "  target.id = id;\n",
       "  target.className = \"vega-embed\";\n",
       "\n",
       "  var style = document.createElement(\"style\");\n",
       "  style.textContent = [\n",
       "    \".vega-embed .error p {\",\n",
       "    \"  color: firebrick;\",\n",
       "    \"  font-size: 14px;\",\n",
       "    \"}\",\n",
       "  ].join(\"\\\\n\");\n",
       "\n",
       "  // element is a jQuery wrapped DOM element inside the output area\n",
       "  // see http://ipython.readthedocs.io/en/stable/api/generated/\\\n",
       "  // IPython.display.html#IPython.display.Javascript.__init__\n",
       "  element[0].appendChild(target);\n",
       "  element[0].appendChild(style);\n",
       "\n",
       "  vega.render(\"#\" + id, spec, type, opt, output_area);\n",
       "}, function (err) {\n",
       "  if (err.requireType !== \"scripterror\") {\n",
       "    throw(err);\n",
       "  }\n",
       "});\n"
      ],
      "text/plain": [
       "<vega.vegalite.VegaLite at 0x11a7634a8>"
      ]
     },
     "metadata": {
      "jupyter-vega": "#4e3a1f15-7acb-48ee-9d44-c7e5c127cafa"
     },
     "output_type": "display_data"
    },
    {
     "data": {
      "text/plain": []
     },
     "execution_count": 230,
     "metadata": {},
     "output_type": "execute_result"
    },
    {
     "data": {
      "image/png": "[encoded data removed]"
     },
     "metadata": {
      "jupyter-vega": "#4e3a1f15-7acb-48ee-9d44-c7e5c127cafa"
     },
     "output_type": "display_data"
    }
   ],
   "source": [
    "# Does seniority impact retention?\n",
    "source = df.groupby(['seniority', 'retained']).count().reset_index()\n",
    "\n",
    "alt.Chart(source).mark_bar().encode(\n",
    "    x='seniority:N',\n",
    "    color='seniority:N',\n",
    "    y=alt.Y('employee_id', axis=alt.Axis(title='Number of Employees')), \n",
    "    row='retained'\n",
    ")"
   ]
  },
  {
   "cell_type": "code",
   "execution_count": 245,
   "metadata": {},
   "outputs": [],
   "source": [
    "# Are some trends seasonal? Let's look by month by adding some new features\n",
    "df['month_of_join'] = df.join_date.dt.month\n",
    "df['month_of_quit'] = df.quit_date.dt.month"
   ]
  },
  {
   "cell_type": "code",
   "execution_count": 257,
   "metadata": {},
   "outputs": [
    {
     "data": {
      "application/javascript": [
       "var spec = {\"config\": {\"view\": {\"width\": 400, \"height\": 300}}, \"data\": {\"name\": \"data-3fa28aae39fde11422a17442f4a64893\"}, \"mark\": \"bar\", \"encoding\": {\"color\": {\"type\": \"nominal\", \"field\": \"month_of_join\"}, \"row\": {\"type\": \"quantitative\", \"field\": \"retained\"}, \"x\": {\"type\": \"quantitative\", \"axis\": {\"title\": \"Number of Employees\"}, \"field\": \"employee_id\"}, \"y\": {\"type\": \"nominal\", \"field\": \"month_of_join\"}}, \"$schema\": \"https://vega.github.io/schema/vega-lite/v2.6.0.json\", \"datasets\": {\"data-3fa28aae39fde11422a17442f4a64893\": [{\"month_of_join\": 1, \"retained\": 0, \"employee_id\": 1140, \"company_id\": 1140, \"dept\": 1140, \"seniority\": 1140, \"salary\": 1140, \"join_date\": 1140, \"quit_date\": 1140, \"tenure\": 1140, \"month_of_quit\": 1140, \"year_of_join\": 1140, \"year_of_quit\": 1140}, {\"month_of_join\": 1, \"retained\": 1, \"employee_id\": 784, \"company_id\": 784, \"dept\": 784, \"seniority\": 784, \"salary\": 784, \"join_date\": 784, \"quit_date\": 0, \"tenure\": 0, \"month_of_quit\": 0, \"year_of_join\": 784, \"year_of_quit\": 0}, {\"month_of_join\": 2, \"retained\": 0, \"employee_id\": 1104, \"company_id\": 1104, \"dept\": 1104, \"seniority\": 1104, \"salary\": 1104, \"join_date\": 1104, \"quit_date\": 1104, \"tenure\": 1104, \"month_of_quit\": 1104, \"year_of_join\": 1104, \"year_of_quit\": 1104}, {\"month_of_join\": 2, \"retained\": 1, \"employee_id\": 806, \"company_id\": 806, \"dept\": 806, \"seniority\": 806, \"salary\": 806, \"join_date\": 806, \"quit_date\": 0, \"tenure\": 0, \"month_of_quit\": 0, \"year_of_join\": 806, \"year_of_quit\": 0}, {\"month_of_join\": 3, \"retained\": 0, \"employee_id\": 1152, \"company_id\": 1152, \"dept\": 1152, \"seniority\": 1152, \"salary\": 1152, \"join_date\": 1152, \"quit_date\": 1152, \"tenure\": 1152, \"month_of_quit\": 1152, \"year_of_join\": 1152, \"year_of_quit\": 1152}, {\"month_of_join\": 3, \"retained\": 1, \"employee_id\": 973, \"company_id\": 973, \"dept\": 973, \"seniority\": 973, \"salary\": 973, \"join_date\": 973, \"quit_date\": 0, \"tenure\": 0, \"month_of_quit\": 0, \"year_of_join\": 973, \"year_of_quit\": 0}, {\"month_of_join\": 4, \"retained\": 0, \"employee_id\": 1271, \"company_id\": 1271, \"dept\": 1271, \"seniority\": 1271, \"salary\": 1271, \"join_date\": 1271, \"quit_date\": 1271, \"tenure\": 1271, \"month_of_quit\": 1271, \"year_of_join\": 1271, \"year_of_quit\": 1271}, {\"month_of_join\": 4, \"retained\": 1, \"employee_id\": 891, \"company_id\": 891, \"dept\": 891, \"seniority\": 891, \"salary\": 891, \"join_date\": 891, \"quit_date\": 0, \"tenure\": 0, \"month_of_quit\": 0, \"year_of_join\": 891, \"year_of_quit\": 0}, {\"month_of_join\": 5, \"retained\": 0, \"employee_id\": 1214, \"company_id\": 1214, \"dept\": 1214, \"seniority\": 1214, \"salary\": 1214, \"join_date\": 1214, \"quit_date\": 1214, \"tenure\": 1214, \"month_of_quit\": 1214, \"year_of_join\": 1214, \"year_of_quit\": 1214}, {\"month_of_join\": 5, \"retained\": 1, \"employee_id\": 859, \"company_id\": 859, \"dept\": 859, \"seniority\": 859, \"salary\": 859, \"join_date\": 859, \"quit_date\": 0, \"tenure\": 0, \"month_of_quit\": 0, \"year_of_join\": 859, \"year_of_quit\": 0}, {\"month_of_join\": 6, \"retained\": 0, \"employee_id\": 1108, \"company_id\": 1108, \"dept\": 1108, \"seniority\": 1108, \"salary\": 1108, \"join_date\": 1108, \"quit_date\": 1108, \"tenure\": 1108, \"month_of_quit\": 1108, \"year_of_join\": 1108, \"year_of_quit\": 1108}, {\"month_of_join\": 6, \"retained\": 1, \"employee_id\": 956, \"company_id\": 956, \"dept\": 956, \"seniority\": 956, \"salary\": 956, \"join_date\": 956, \"quit_date\": 0, \"tenure\": 0, \"month_of_quit\": 0, \"year_of_join\": 956, \"year_of_quit\": 0}, {\"month_of_join\": 7, \"retained\": 0, \"employee_id\": 1138, \"company_id\": 1138, \"dept\": 1138, \"seniority\": 1138, \"salary\": 1138, \"join_date\": 1138, \"quit_date\": 1138, \"tenure\": 1138, \"month_of_quit\": 1138, \"year_of_join\": 1138, \"year_of_quit\": 1138}, {\"month_of_join\": 7, \"retained\": 1, \"employee_id\": 921, \"company_id\": 921, \"dept\": 921, \"seniority\": 921, \"salary\": 921, \"join_date\": 921, \"quit_date\": 0, \"tenure\": 0, \"month_of_quit\": 0, \"year_of_join\": 921, \"year_of_quit\": 0}, {\"month_of_join\": 8, \"retained\": 0, \"employee_id\": 1147, \"company_id\": 1147, \"dept\": 1147, \"seniority\": 1147, \"salary\": 1147, \"join_date\": 1147, \"quit_date\": 1147, \"tenure\": 1147, \"month_of_quit\": 1147, \"year_of_join\": 1147, \"year_of_quit\": 1147}, {\"month_of_join\": 8, \"retained\": 1, \"employee_id\": 949, \"company_id\": 949, \"dept\": 949, \"seniority\": 949, \"salary\": 949, \"join_date\": 949, \"quit_date\": 0, \"tenure\": 0, \"month_of_quit\": 0, \"year_of_join\": 949, \"year_of_quit\": 0}, {\"month_of_join\": 9, \"retained\": 0, \"employee_id\": 1050, \"company_id\": 1050, \"dept\": 1050, \"seniority\": 1050, \"salary\": 1050, \"join_date\": 1050, \"quit_date\": 1050, \"tenure\": 1050, \"month_of_quit\": 1050, \"year_of_join\": 1050, \"year_of_quit\": 1050}, {\"month_of_join\": 9, \"retained\": 1, \"employee_id\": 981, \"company_id\": 981, \"dept\": 981, \"seniority\": 981, \"salary\": 981, \"join_date\": 981, \"quit_date\": 0, \"tenure\": 0, \"month_of_quit\": 0, \"year_of_join\": 981, \"year_of_quit\": 0}, {\"month_of_join\": 10, \"retained\": 0, \"employee_id\": 1168, \"company_id\": 1168, \"dept\": 1168, \"seniority\": 1168, \"salary\": 1168, \"join_date\": 1168, \"quit_date\": 1168, \"tenure\": 1168, \"month_of_quit\": 1168, \"year_of_join\": 1168, \"year_of_quit\": 1168}, {\"month_of_join\": 10, \"retained\": 1, \"employee_id\": 996, \"company_id\": 996, \"dept\": 996, \"seniority\": 996, \"salary\": 996, \"join_date\": 996, \"quit_date\": 0, \"tenure\": 0, \"month_of_quit\": 0, \"year_of_join\": 996, \"year_of_quit\": 0}, {\"month_of_join\": 11, \"retained\": 0, \"employee_id\": 938, \"company_id\": 938, \"dept\": 938, \"seniority\": 938, \"salary\": 938, \"join_date\": 938, \"quit_date\": 938, \"tenure\": 938, \"month_of_quit\": 938, \"year_of_join\": 938, \"year_of_quit\": 938}, {\"month_of_join\": 11, \"retained\": 1, \"employee_id\": 1047, \"company_id\": 1047, \"dept\": 1047, \"seniority\": 1047, \"salary\": 1047, \"join_date\": 1047, \"quit_date\": 0, \"tenure\": 0, \"month_of_quit\": 0, \"year_of_join\": 1047, \"year_of_quit\": 0}, {\"month_of_join\": 12, \"retained\": 0, \"employee_id\": 947, \"company_id\": 947, \"dept\": 947, \"seniority\": 947, \"salary\": 947, \"join_date\": 947, \"quit_date\": 947, \"tenure\": 947, \"month_of_quit\": 947, \"year_of_join\": 947, \"year_of_quit\": 947}, {\"month_of_join\": 12, \"retained\": 1, \"employee_id\": 921, \"company_id\": 921, \"dept\": 921, \"seniority\": 921, \"salary\": 921, \"join_date\": 921, \"quit_date\": 0, \"tenure\": 0, \"month_of_quit\": 0, \"year_of_join\": 921, \"year_of_quit\": 0}]}};\n",
       "var opt = {};\n",
       "var type = \"vega-lite\";\n",
       "var id = \"4fc9ef28-19fc-40f8-b8e8-cddb179ddd1b\";\n",
       "\n",
       "var output_area = this;\n",
       "\n",
       "require([\"nbextensions/jupyter-vega/index\"], function(vega) {\n",
       "  var target = document.createElement(\"div\");\n",
       "  target.id = id;\n",
       "  target.className = \"vega-embed\";\n",
       "\n",
       "  var style = document.createElement(\"style\");\n",
       "  style.textContent = [\n",
       "    \".vega-embed .error p {\",\n",
       "    \"  color: firebrick;\",\n",
       "    \"  font-size: 14px;\",\n",
       "    \"}\",\n",
       "  ].join(\"\\\\n\");\n",
       "\n",
       "  // element is a jQuery wrapped DOM element inside the output area\n",
       "  // see http://ipython.readthedocs.io/en/stable/api/generated/\\\n",
       "  // IPython.display.html#IPython.display.Javascript.__init__\n",
       "  element[0].appendChild(target);\n",
       "  element[0].appendChild(style);\n",
       "\n",
       "  vega.render(\"#\" + id, spec, type, opt, output_area);\n",
       "}, function (err) {\n",
       "  if (err.requireType !== \"scripterror\") {\n",
       "    throw(err);\n",
       "  }\n",
       "});\n"
      ],
      "text/plain": [
       "<vega.vegalite.VegaLite at 0x11a08f630>"
      ]
     },
     "metadata": {
      "jupyter-vega": "#4fc9ef28-19fc-40f8-b8e8-cddb179ddd1b"
     },
     "output_type": "display_data"
    },
    {
     "data": {
      "text/plain": []
     },
     "execution_count": 257,
     "metadata": {},
     "output_type": "execute_result"
    },
    {
     "data": {
      "image/png": "[encoded data removed]"
     },
     "metadata": {
      "jupyter-vega": "#4fc9ef28-19fc-40f8-b8e8-cddb179ddd1b"
     },
     "output_type": "display_data"
    }
   ],
   "source": [
    "# Does the month an employee joined have any impact on retention?\n",
    "source = df.groupby(['month_of_join', 'retained']).count().reset_index()\n",
    "\n",
    "alt.Chart(source).mark_bar().encode(\n",
    "    y='month_of_join:N',\n",
    "    color='month_of_join:N',\n",
    "    x=alt.X('employee_id', axis=alt.Axis(title='Number of Employees')), \n",
    "    row='retained'\n",
    ")"
   ]
  },
  {
   "cell_type": "markdown",
   "metadata": {},
   "source": [
    "The largest deltas above are April and May hires - they tend to churn at a much higher rate than they are retained. Whereas November hires appear to be the only month that has a higher retention rate than churn rate. "
   ]
  },
  {
   "cell_type": "code",
   "execution_count": 250,
   "metadata": {},
   "outputs": [
    {
     "data": {
      "application/javascript": [
       "var spec = {\"config\": {\"view\": {\"width\": 400, \"height\": 300}}, \"data\": {\"name\": \"data-0e5fa1fcb4ddff7550385bc592706148\"}, \"mark\": \"bar\", \"encoding\": {\"color\": {\"type\": \"nominal\", \"field\": \"month_of_quit\"}, \"row\": {\"type\": \"quantitative\", \"field\": \"retained\"}, \"x\": {\"type\": \"quantitative\", \"axis\": {\"title\": \"Number of Employees\"}, \"field\": \"employee_id\"}, \"y\": {\"type\": \"nominal\", \"field\": \"month_of_quit\"}}, \"$schema\": \"https://vega.github.io/schema/vega-lite/v2.6.0.json\", \"datasets\": {\"data-0e5fa1fcb4ddff7550385bc592706148\": [{\"month_of_quit\": 1.0, \"retained\": 0, \"employee_id\": 1189, \"company_id\": 1189, \"dept\": 1189, \"seniority\": 1189, \"salary\": 1189, \"join_date\": 1189, \"quit_date\": 1189, \"tenure\": 1189, \"month_of_join\": 1189}, {\"month_of_quit\": 2.0, \"retained\": 0, \"employee_id\": 921, \"company_id\": 921, \"dept\": 921, \"seniority\": 921, \"salary\": 921, \"join_date\": 921, \"quit_date\": 921, \"tenure\": 921, \"month_of_join\": 921}, {\"month_of_quit\": 3.0, \"retained\": 0, \"employee_id\": 1050, \"company_id\": 1050, \"dept\": 1050, \"seniority\": 1050, \"salary\": 1050, \"join_date\": 1050, \"quit_date\": 1050, \"tenure\": 1050, \"month_of_join\": 1050}, {\"month_of_quit\": 4.0, \"retained\": 0, \"employee_id\": 1053, \"company_id\": 1053, \"dept\": 1053, \"seniority\": 1053, \"salary\": 1053, \"join_date\": 1053, \"quit_date\": 1053, \"tenure\": 1053, \"month_of_join\": 1053}, {\"month_of_quit\": 5.0, \"retained\": 0, \"employee_id\": 1263, \"company_id\": 1263, \"dept\": 1263, \"seniority\": 1263, \"salary\": 1263, \"join_date\": 1263, \"quit_date\": 1263, \"tenure\": 1263, \"month_of_join\": 1263}, {\"month_of_quit\": 6.0, \"retained\": 0, \"employee_id\": 1056, \"company_id\": 1056, \"dept\": 1056, \"seniority\": 1056, \"salary\": 1056, \"join_date\": 1056, \"quit_date\": 1056, \"tenure\": 1056, \"month_of_join\": 1056}, {\"month_of_quit\": 7.0, \"retained\": 0, \"employee_id\": 1110, \"company_id\": 1110, \"dept\": 1110, \"seniority\": 1110, \"salary\": 1110, \"join_date\": 1110, \"quit_date\": 1110, \"tenure\": 1110, \"month_of_join\": 1110}, {\"month_of_quit\": 8.0, \"retained\": 0, \"employee_id\": 1230, \"company_id\": 1230, \"dept\": 1230, \"seniority\": 1230, \"salary\": 1230, \"join_date\": 1230, \"quit_date\": 1230, \"tenure\": 1230, \"month_of_join\": 1230}, {\"month_of_quit\": 9.0, \"retained\": 0, \"employee_id\": 1042, \"company_id\": 1042, \"dept\": 1042, \"seniority\": 1042, \"salary\": 1042, \"join_date\": 1042, \"quit_date\": 1042, \"tenure\": 1042, \"month_of_join\": 1042}, {\"month_of_quit\": 10.0, \"retained\": 0, \"employee_id\": 1302, \"company_id\": 1302, \"dept\": 1302, \"seniority\": 1302, \"salary\": 1302, \"join_date\": 1302, \"quit_date\": 1302, \"tenure\": 1302, \"month_of_join\": 1302}, {\"month_of_quit\": 11.0, \"retained\": 0, \"employee_id\": 1283, \"company_id\": 1283, \"dept\": 1283, \"seniority\": 1283, \"salary\": 1283, \"join_date\": 1283, \"quit_date\": 1283, \"tenure\": 1283, \"month_of_join\": 1283}, {\"month_of_quit\": 12.0, \"retained\": 0, \"employee_id\": 878, \"company_id\": 878, \"dept\": 878, \"seniority\": 878, \"salary\": 878, \"join_date\": 878, \"quit_date\": 878, \"tenure\": 878, \"month_of_join\": 878}]}};\n",
       "var opt = {};\n",
       "var type = \"vega-lite\";\n",
       "var id = \"5fc30453-b87d-468d-b67a-63d19470e016\";\n",
       "\n",
       "var output_area = this;\n",
       "\n",
       "require([\"nbextensions/jupyter-vega/index\"], function(vega) {\n",
       "  var target = document.createElement(\"div\");\n",
       "  target.id = id;\n",
       "  target.className = \"vega-embed\";\n",
       "\n",
       "  var style = document.createElement(\"style\");\n",
       "  style.textContent = [\n",
       "    \".vega-embed .error p {\",\n",
       "    \"  color: firebrick;\",\n",
       "    \"  font-size: 14px;\",\n",
       "    \"}\",\n",
       "  ].join(\"\\\\n\");\n",
       "\n",
       "  // element is a jQuery wrapped DOM element inside the output area\n",
       "  // see http://ipython.readthedocs.io/en/stable/api/generated/\\\n",
       "  // IPython.display.html#IPython.display.Javascript.__init__\n",
       "  element[0].appendChild(target);\n",
       "  element[0].appendChild(style);\n",
       "\n",
       "  vega.render(\"#\" + id, spec, type, opt, output_area);\n",
       "}, function (err) {\n",
       "  if (err.requireType !== \"scripterror\") {\n",
       "    throw(err);\n",
       "  }\n",
       "});\n"
      ],
      "text/plain": [
       "<vega.vegalite.VegaLite at 0x11c7f72e8>"
      ]
     },
     "metadata": {
      "jupyter-vega": "#5fc30453-b87d-468d-b67a-63d19470e016"
     },
     "output_type": "display_data"
    },
    {
     "data": {
      "text/plain": []
     },
     "execution_count": 250,
     "metadata": {},
     "output_type": "execute_result"
    },
    {
     "data": {
      "image/png": "[encoded data removed]"
     },
     "metadata": {
      "jupyter-vega": "#5fc30453-b87d-468d-b67a-63d19470e016"
     },
     "output_type": "display_data"
    }
   ],
   "source": [
    "# Do employees tend to leave on certain months?\n",
    "source = df.groupby(['month_of_quit', 'retained']).count().reset_index()\n",
    "\n",
    "alt.Chart(source).mark_bar().encode(\n",
    "    y='month_of_quit:N',\n",
    "    color='month_of_quit:N',\n",
    "    x=alt.X('employee_id', axis=alt.Axis(title='Number of Employees')), \n",
    "    row='retained'\n",
    ")"
   ]
  },
  {
   "cell_type": "markdown",
   "metadata": {},
   "source": [
    "Looks like modest peaks in January, May, August, October, and November. The months before these would likely be good times to have company or department enrichment events, expecially in April and September. "
   ]
  },
  {
   "cell_type": "code",
   "execution_count": 251,
   "metadata": {},
   "outputs": [],
   "source": [
    "# Are some trends seasonal? Let's look by year by adding some new features\n",
    "df['year_of_join'] = df.join_date.dt.year\n",
    "df['year_of_quit'] = df.quit_date.dt.year"
   ]
  },
  {
   "cell_type": "code",
   "execution_count": 255,
   "metadata": {},
   "outputs": [
    {
     "data": {
      "application/javascript": [
       "var spec = {\"config\": {\"view\": {\"width\": 400, \"height\": 300}}, \"data\": {\"name\": \"data-93257e03180294d172114ef37175451e\"}, \"mark\": \"bar\", \"encoding\": {\"color\": {\"type\": \"nominal\", \"field\": \"year_of_join\"}, \"row\": {\"type\": \"quantitative\", \"field\": \"retained\"}, \"x\": {\"type\": \"quantitative\", \"axis\": {\"title\": \"Number of Employees\"}, \"field\": \"employee_id\"}, \"y\": {\"type\": \"nominal\", \"field\": \"year_of_join\"}}, \"$schema\": \"https://vega.github.io/schema/vega-lite/v2.6.0.json\", \"datasets\": {\"data-93257e03180294d172114ef37175451e\": [{\"year_of_join\": 2011, \"retained\": 0, \"employee_id\": 4452, \"company_id\": 4452, \"dept\": 4452, \"seniority\": 4452, \"salary\": 4452, \"join_date\": 4452, \"quit_date\": 4452, \"tenure\": 4452, \"month_of_join\": 4452, \"month_of_quit\": 4452, \"year_of_quit\": 4452}, {\"year_of_join\": 2011, \"retained\": 1, \"employee_id\": 228, \"company_id\": 228, \"dept\": 228, \"seniority\": 228, \"salary\": 228, \"join_date\": 228, \"quit_date\": 0, \"tenure\": 0, \"month_of_join\": 228, \"month_of_quit\": 0, \"year_of_quit\": 0}, {\"year_of_join\": 2012, \"retained\": 0, \"employee_id\": 4060, \"company_id\": 4060, \"dept\": 4060, \"seniority\": 4060, \"salary\": 4060, \"join_date\": 4060, \"quit_date\": 4060, \"tenure\": 4060, \"month_of_join\": 4060, \"month_of_quit\": 4060, \"year_of_quit\": 4060}, {\"year_of_join\": 2012, \"retained\": 1, \"employee_id\": 1076, \"company_id\": 1076, \"dept\": 1076, \"seniority\": 1076, \"salary\": 1076, \"join_date\": 1076, \"quit_date\": 0, \"tenure\": 0, \"month_of_join\": 1076, \"month_of_quit\": 0, \"year_of_quit\": 0}, {\"year_of_join\": 2013, \"retained\": 0, \"employee_id\": 3015, \"company_id\": 3015, \"dept\": 3015, \"seniority\": 3015, \"salary\": 3015, \"join_date\": 3015, \"quit_date\": 3015, \"tenure\": 3015, \"month_of_join\": 3015, \"month_of_quit\": 3015, \"year_of_quit\": 3015}, {\"year_of_join\": 2013, \"retained\": 1, \"employee_id\": 1946, \"company_id\": 1946, \"dept\": 1946, \"seniority\": 1946, \"salary\": 1946, \"join_date\": 1946, \"quit_date\": 0, \"tenure\": 0, \"month_of_join\": 1946, \"month_of_quit\": 0, \"year_of_quit\": 0}, {\"year_of_join\": 2014, \"retained\": 0, \"employee_id\": 1812, \"company_id\": 1812, \"dept\": 1812, \"seniority\": 1812, \"salary\": 1812, \"join_date\": 1812, \"quit_date\": 1812, \"tenure\": 1812, \"month_of_join\": 1812, \"month_of_quit\": 1812, \"year_of_quit\": 1812}, {\"year_of_join\": 2014, \"retained\": 1, \"employee_id\": 3167, \"company_id\": 3167, \"dept\": 3167, \"seniority\": 3167, \"salary\": 3167, \"join_date\": 3167, \"quit_date\": 0, \"tenure\": 0, \"month_of_join\": 3167, \"month_of_quit\": 0, \"year_of_quit\": 0}, {\"year_of_join\": 2015, \"retained\": 0, \"employee_id\": 38, \"company_id\": 38, \"dept\": 38, \"seniority\": 38, \"salary\": 38, \"join_date\": 38, \"quit_date\": 38, \"tenure\": 38, \"month_of_join\": 38, \"month_of_quit\": 38, \"year_of_quit\": 38}, {\"year_of_join\": 2015, \"retained\": 1, \"employee_id\": 4667, \"company_id\": 4667, \"dept\": 4667, \"seniority\": 4667, \"salary\": 4667, \"join_date\": 4667, \"quit_date\": 0, \"tenure\": 0, \"month_of_join\": 4667, \"month_of_quit\": 0, \"year_of_quit\": 0}]}};\n",
       "var opt = {};\n",
       "var type = \"vega-lite\";\n",
       "var id = \"36c8ce86-9854-43c4-82be-0050baf474e2\";\n",
       "\n",
       "var output_area = this;\n",
       "\n",
       "require([\"nbextensions/jupyter-vega/index\"], function(vega) {\n",
       "  var target = document.createElement(\"div\");\n",
       "  target.id = id;\n",
       "  target.className = \"vega-embed\";\n",
       "\n",
       "  var style = document.createElement(\"style\");\n",
       "  style.textContent = [\n",
       "    \".vega-embed .error p {\",\n",
       "    \"  color: firebrick;\",\n",
       "    \"  font-size: 14px;\",\n",
       "    \"}\",\n",
       "  ].join(\"\\\\n\");\n",
       "\n",
       "  // element is a jQuery wrapped DOM element inside the output area\n",
       "  // see http://ipython.readthedocs.io/en/stable/api/generated/\\\n",
       "  // IPython.display.html#IPython.display.Javascript.__init__\n",
       "  element[0].appendChild(target);\n",
       "  element[0].appendChild(style);\n",
       "\n",
       "  vega.render(\"#\" + id, spec, type, opt, output_area);\n",
       "}, function (err) {\n",
       "  if (err.requireType !== \"scripterror\") {\n",
       "    throw(err);\n",
       "  }\n",
       "});\n"
      ],
      "text/plain": [
       "<vega.vegalite.VegaLite at 0x11a0ae5f8>"
      ]
     },
     "metadata": {
      "jupyter-vega": "#36c8ce86-9854-43c4-82be-0050baf474e2"
     },
     "output_type": "display_data"
    },
    {
     "data": {
      "text/plain": []
     },
     "execution_count": 255,
     "metadata": {},
     "output_type": "execute_result"
    },
    {
     "data": {
      "image/png": "[encoded data removed]"
     },
     "metadata": {
      "jupyter-vega": "#36c8ce86-9854-43c4-82be-0050baf474e2"
     },
     "output_type": "display_data"
    }
   ],
   "source": [
    "# Does the year an employee joined have any impact on retention?\n",
    "source = df.groupby(['year_of_join', 'retained']).count().reset_index()\n",
    "\n",
    "alt.Chart(source).mark_bar().encode(\n",
    "    y='year_of_join:N',\n",
    "    color='year_of_join:N',\n",
    "    x=alt.X('employee_id', axis=alt.Axis(title='Number of Employees')), \n",
    "    row='retained'\n",
    ")"
   ]
  },
  {
   "cell_type": "markdown",
   "metadata": {},
   "source": [
    "There seems to be a distance-decay pattern here, where most employees tend to stick around for at least one year (i.e. 2015 join employees are staying), while it's rare that employees stay for more than 3 years.  "
   ]
  },
  {
   "cell_type": "code",
   "execution_count": null,
   "metadata": {},
   "outputs": [],
   "source": []
  },
  {
   "cell_type": "code",
   "execution_count": null,
   "metadata": {},
   "outputs": [],
   "source": []
  },
  {
   "cell_type": "code",
   "execution_count": null,
   "metadata": {},
   "outputs": [],
   "source": []
  }
 ],
 "metadata": {
  "kernelspec": {
   "display_name": "Python 3",
   "language": "python",
   "name": "python3"
  },
  "language_info": {
   "codemirror_mode": {
    "name": "ipython",
    "version": 3
   },
   "file_extension": ".py",
   "mimetype": "text/x-python",
   "name": "python",
   "nbconvert_exporter": "python",
   "pygments_lexer": "ipython3",
   "version": "3.6.5"
  }
 },
 "nbformat": 4,
 "nbformat_minor": 2
}
